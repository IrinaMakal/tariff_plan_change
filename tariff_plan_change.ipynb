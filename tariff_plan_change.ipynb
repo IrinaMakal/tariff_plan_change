{
 "cells": [
  {
   "cell_type": "markdown",
   "id": "d6185dba",
   "metadata": {},
   "source": [
    "# Анализ данных о транзакциях, связанных с подключениями и отключениями тарифных планов абонентами, которые меняли тарифные планы в первом полугодии 2017 года\n",
    "\n",
    "<br>Необходимо исследовать следующие вопросы:\n",
    "<br>1. Направления смен тарифных планов: с каких тарифных планов и на какие шли  наибольшие перетоки? \n",
    "<br>2. Насколько изменился среднемесячный счет абонентов за период 3 месяца после месяца смены тарифного плана в сравнении с периодом 3 месяца до месяца смены тарифного плана. Какие направления смен тарифных планов характеризовались ростом среднего счета в трехмесячном периоде, а какие – сокращением. \n",
    "<br>3. Аналогично п.2, только относительно изменения уровня блокировок: насколько реже или чаще стали попадать в блокировки абоненты после миграции в целом и для каждого направления миграции в отдельности. Для сравнения использовать те же периоды: 3 месяца до месяца смены плана и 3 месяца после месяца смены."
   ]
  },
  {
   "cell_type": "code",
   "execution_count": 1,
   "id": "283844de",
   "metadata": {},
   "outputs": [],
   "source": [
    "import pandas as pd\n",
    "from io import BytesIO\n",
    "import requests\n",
    "from urllib.parse import urlencode\n",
    "import numpy as np\n",
    "%matplotlib inline\n",
    "import matplotlib.pyplot as plt\n",
    "import seaborn as sns\n",
    "import matplotlib.colors as mcolors\n",
    "import datetime"
   ]
  },
  {
   "cell_type": "markdown",
   "id": "d7a442f6",
   "metadata": {},
   "source": [
    "Импортируем полученные данные для анализа."
   ]
  },
  {
   "cell_type": "code",
   "execution_count": 2,
   "id": "36e57b1a",
   "metadata": {},
   "outputs": [],
   "source": [
    "base_url = 'https://cloud-api.yandex.net/v1/disk/public/resources/download?'"
   ]
  },
  {
   "cell_type": "code",
   "execution_count": 3,
   "id": "0dbc46cf",
   "metadata": {},
   "outputs": [
    {
     "data": {
      "text/html": [
       "<div>\n",
       "<style scoped>\n",
       "    .dataframe tbody tr th:only-of-type {\n",
       "        vertical-align: middle;\n",
       "    }\n",
       "\n",
       "    .dataframe tbody tr th {\n",
       "        vertical-align: top;\n",
       "    }\n",
       "\n",
       "    .dataframe thead th {\n",
       "        text-align: right;\n",
       "    }\n",
       "</style>\n",
       "<table border=\"1\" class=\"dataframe\">\n",
       "  <thead>\n",
       "    <tr style=\"text-align: right;\">\n",
       "      <th></th>\n",
       "      <th>SUBSCRIBER_ID</th>\n",
       "      <th>TARIFF_PLAN_ID</th>\n",
       "      <th>START_DTTM</th>\n",
       "      <th>END_DTTM</th>\n",
       "    </tr>\n",
       "  </thead>\n",
       "  <tbody>\n",
       "    <tr>\n",
       "      <th>0</th>\n",
       "      <td>1</td>\n",
       "      <td>2</td>\n",
       "      <td>2013-11-22 21:10:08</td>\n",
       "      <td>2017-03-11 14:24:17</td>\n",
       "    </tr>\n",
       "    <tr>\n",
       "      <th>1</th>\n",
       "      <td>1</td>\n",
       "      <td>3</td>\n",
       "      <td>2017-03-11 14:24:18</td>\n",
       "      <td>$null$</td>\n",
       "    </tr>\n",
       "    <tr>\n",
       "      <th>2</th>\n",
       "      <td>2</td>\n",
       "      <td>1</td>\n",
       "      <td>2016-02-05 16:36:34</td>\n",
       "      <td>2017-06-29 12:39:58</td>\n",
       "    </tr>\n",
       "    <tr>\n",
       "      <th>3</th>\n",
       "      <td>2</td>\n",
       "      <td>5</td>\n",
       "      <td>2017-06-29 12:39:59</td>\n",
       "      <td>$null$</td>\n",
       "    </tr>\n",
       "    <tr>\n",
       "      <th>4</th>\n",
       "      <td>3</td>\n",
       "      <td>1</td>\n",
       "      <td>2015-05-06 19:17:46</td>\n",
       "      <td>2017-04-14 12:00:59</td>\n",
       "    </tr>\n",
       "  </tbody>\n",
       "</table>\n",
       "</div>"
      ],
      "text/plain": [
       "   SUBSCRIBER_ID  TARIFF_PLAN_ID           START_DTTM             END_DTTM\n",
       "0              1               2  2013-11-22 21:10:08  2017-03-11 14:24:17\n",
       "1              1               3  2017-03-11 14:24:18               $null$\n",
       "2              2               1  2016-02-05 16:36:34  2017-06-29 12:39:58\n",
       "3              2               5  2017-06-29 12:39:59               $null$\n",
       "4              3               1  2015-05-06 19:17:46  2017-04-14 12:00:59"
      ]
     },
     "execution_count": 3,
     "metadata": {},
     "output_type": "execute_result"
    }
   ],
   "source": [
    "public_key = 'https://disk.yandex.by/d/4pVIAD6Ge2Xs3Q'  # Сюда вписываю мою ссылку\n",
    "# Получаю загрузочную ссылку\n",
    "final_url = base_url + urlencode(dict(public_key=public_key))\n",
    "response = requests.get(final_url)\n",
    "download_url = response.json()['href']\n",
    "# Загружаю файл и сохраняю его\n",
    "r = requests.get(download_url)\n",
    "data_1 = r.content\n",
    "tariff_plans_change = pd.read_csv(BytesIO(data_1))\n",
    "tariff_plans_change.head()"
   ]
  },
  {
   "cell_type": "markdown",
   "id": "de1df536",
   "metadata": {},
   "source": [
    "Ввиду того, что задание выполняется спустя некоторое время после окончания периода предоставленных данных, установим NOW дату = 01.07.2017, т.к. данные предоставлены за первое полугодие 2017 года."
   ]
  },
  {
   "cell_type": "code",
   "execution_count": 4,
   "id": "a51ee34e",
   "metadata": {},
   "outputs": [
    {
     "data": {
      "text/plain": [
       "'2017-07-01'"
      ]
     },
     "execution_count": 4,
     "metadata": {},
     "output_type": "execute_result"
    }
   ],
   "source": [
    "NOW = '2017-07-01'\n",
    "NOW"
   ]
  },
  {
   "cell_type": "code",
   "execution_count": 5,
   "id": "b706210c",
   "metadata": {},
   "outputs": [
    {
     "data": {
      "text/plain": [
       "SUBSCRIBER_ID      int64\n",
       "TARIFF_PLAN_ID     int64\n",
       "START_DTTM        object\n",
       "END_DTTM          object\n",
       "dtype: object"
      ]
     },
     "execution_count": 5,
     "metadata": {},
     "output_type": "execute_result"
    }
   ],
   "source": [
    "# проверим типы данных\n",
    "tariff_plans_change.dtypes"
   ]
  },
  {
   "cell_type": "code",
   "execution_count": 6,
   "id": "7343f375",
   "metadata": {},
   "outputs": [
    {
     "data": {
      "text/plain": [
       "SUBSCRIBER_ID     0\n",
       "TARIFF_PLAN_ID    0\n",
       "START_DTTM        0\n",
       "END_DTTM          0\n",
       "dtype: int64"
      ]
     },
     "execution_count": 6,
     "metadata": {},
     "output_type": "execute_result"
    }
   ],
   "source": [
    "tariff_plans_change.isnull().sum()"
   ]
  },
  {
   "cell_type": "markdown",
   "id": "0adb6766",
   "metadata": {},
   "source": [
    "Известно, значение $null$ означает, что план актуален на текущий момент, значение с типом данных object. \n",
    "А нам нужно конвертировать данные в дату. Поэтому заменим это значение на текущую дату NOW, которая была определена ранее."
   ]
  },
  {
   "cell_type": "code",
   "execution_count": 7,
   "id": "bb3351c5",
   "metadata": {},
   "outputs": [],
   "source": [
    "tariff_plans_change.END_DTTM = [NOW if x == '$null$' else x for x in tariff_plans_change.END_DTTM]"
   ]
  },
  {
   "cell_type": "code",
   "execution_count": 8,
   "id": "84d2f0da",
   "metadata": {},
   "outputs": [
    {
     "data": {
      "text/plain": [
       "SUBSCRIBER_ID     0\n",
       "TARIFF_PLAN_ID    0\n",
       "START_DTTM        0\n",
       "END_DTTM          0\n",
       "dtype: int64"
      ]
     },
     "execution_count": 8,
     "metadata": {},
     "output_type": "execute_result"
    }
   ],
   "source": [
    "tariff_plans_change.isnull().sum()"
   ]
  },
  {
   "cell_type": "code",
   "execution_count": 9,
   "id": "cb43b5b1",
   "metadata": {},
   "outputs": [],
   "source": [
    "#конвертирую данные в дату, где необходимо \n",
    "tariff_plans_change['START_DTTM'] = pd.to_datetime(tariff_plans_change.START_DTTM).dt.normalize()\n",
    "tariff_plans_change['END_DTTM'] = pd.to_datetime(tariff_plans_change.END_DTTM).dt.normalize()"
   ]
  },
  {
   "cell_type": "code",
   "execution_count": 10,
   "id": "f6d73baa",
   "metadata": {},
   "outputs": [
    {
     "data": {
      "text/html": [
       "<div>\n",
       "<style scoped>\n",
       "    .dataframe tbody tr th:only-of-type {\n",
       "        vertical-align: middle;\n",
       "    }\n",
       "\n",
       "    .dataframe tbody tr th {\n",
       "        vertical-align: top;\n",
       "    }\n",
       "\n",
       "    .dataframe thead th {\n",
       "        text-align: right;\n",
       "    }\n",
       "</style>\n",
       "<table border=\"1\" class=\"dataframe\">\n",
       "  <thead>\n",
       "    <tr style=\"text-align: right;\">\n",
       "      <th></th>\n",
       "      <th>SUBSCRIBER_ID</th>\n",
       "      <th>BILL_MONTH</th>\n",
       "      <th>CHARGES</th>\n",
       "    </tr>\n",
       "  </thead>\n",
       "  <tbody>\n",
       "    <tr>\n",
       "      <th>0</th>\n",
       "      <td>4741</td>\n",
       "      <td>2017-03-01</td>\n",
       "      <td>4.572</td>\n",
       "    </tr>\n",
       "    <tr>\n",
       "      <th>1</th>\n",
       "      <td>1754</td>\n",
       "      <td>2017-05-01</td>\n",
       "      <td>4.894</td>\n",
       "    </tr>\n",
       "    <tr>\n",
       "      <th>2</th>\n",
       "      <td>381</td>\n",
       "      <td>2017-01-01</td>\n",
       "      <td>6.670</td>\n",
       "    </tr>\n",
       "    <tr>\n",
       "      <th>3</th>\n",
       "      <td>5832</td>\n",
       "      <td>2016-12-01</td>\n",
       "      <td>4.299</td>\n",
       "    </tr>\n",
       "    <tr>\n",
       "      <th>4</th>\n",
       "      <td>5277</td>\n",
       "      <td>2017-03-01</td>\n",
       "      <td>1.610</td>\n",
       "    </tr>\n",
       "  </tbody>\n",
       "</table>\n",
       "</div>"
      ],
      "text/plain": [
       "   SUBSCRIBER_ID  BILL_MONTH  CHARGES\n",
       "0           4741  2017-03-01    4.572\n",
       "1           1754  2017-05-01    4.894\n",
       "2            381  2017-01-01    6.670\n",
       "3           5832  2016-12-01    4.299\n",
       "4           5277  2017-03-01    1.610"
      ]
     },
     "execution_count": 10,
     "metadata": {},
     "output_type": "execute_result"
    }
   ],
   "source": [
    "public_key_2 = 'https://disk.yandex.by/d/9raRmViGBcmOCA'  # Сюда вписываю мою ссылку\n",
    "# Получаю загрузочную ссылку\n",
    "final_url_2 = base_url + urlencode(dict(public_key=public_key_2))\n",
    "response_2 = requests.get(final_url_2)\n",
    "download_url_2 = response_2.json()['href']\n",
    "# Загружаю файл и сохраняю его\n",
    "r2 = requests.get(download_url_2)\n",
    "data_2 = r2.content\n",
    "charges = pd.read_csv(BytesIO(data_2))\n",
    "charges.head()"
   ]
  },
  {
   "cell_type": "code",
   "execution_count": 11,
   "id": "3d9e7fa4",
   "metadata": {},
   "outputs": [
    {
     "data": {
      "text/plain": [
       "SUBSCRIBER_ID      int64\n",
       "BILL_MONTH        object\n",
       "CHARGES          float64\n",
       "dtype: object"
      ]
     },
     "execution_count": 11,
     "metadata": {},
     "output_type": "execute_result"
    }
   ],
   "source": [
    "# проверим типы данных\n",
    "charges.dtypes"
   ]
  },
  {
   "cell_type": "code",
   "execution_count": 12,
   "id": "df1cc866",
   "metadata": {},
   "outputs": [],
   "source": [
    "#конвертирую данные в дату, где необходимо \n",
    "charges['BILL_MONTH'] = pd.to_datetime(charges.BILL_MONTH).dt.normalize()"
   ]
  },
  {
   "cell_type": "code",
   "execution_count": 13,
   "id": "c1d0ee84",
   "metadata": {},
   "outputs": [
    {
     "data": {
      "text/plain": [
       "SUBSCRIBER_ID    0\n",
       "BILL_MONTH       0\n",
       "CHARGES          0\n",
       "dtype: int64"
      ]
     },
     "execution_count": 13,
     "metadata": {},
     "output_type": "execute_result"
    }
   ],
   "source": [
    "charges.isnull().sum()"
   ]
  },
  {
   "cell_type": "code",
   "execution_count": 14,
   "id": "8d57cb21",
   "metadata": {},
   "outputs": [
    {
     "data": {
      "text/html": [
       "<div>\n",
       "<style scoped>\n",
       "    .dataframe tbody tr th:only-of-type {\n",
       "        vertical-align: middle;\n",
       "    }\n",
       "\n",
       "    .dataframe tbody tr th {\n",
       "        vertical-align: top;\n",
       "    }\n",
       "\n",
       "    .dataframe thead th {\n",
       "        text-align: right;\n",
       "    }\n",
       "</style>\n",
       "<table border=\"1\" class=\"dataframe\">\n",
       "  <thead>\n",
       "    <tr style=\"text-align: right;\">\n",
       "      <th></th>\n",
       "      <th>SUBSCRIBER_ID</th>\n",
       "      <th>START_DT</th>\n",
       "      <th>END_DT</th>\n",
       "      <th>STATUS</th>\n",
       "    </tr>\n",
       "  </thead>\n",
       "  <tbody>\n",
       "    <tr>\n",
       "      <th>0</th>\n",
       "      <td>5195</td>\n",
       "      <td>2017-12-27</td>\n",
       "      <td>2017-12-27</td>\n",
       "      <td>Suspended</td>\n",
       "    </tr>\n",
       "    <tr>\n",
       "      <th>1</th>\n",
       "      <td>5198</td>\n",
       "      <td>2017-04-18</td>\n",
       "      <td>2017-04-18</td>\n",
       "      <td>Suspended</td>\n",
       "    </tr>\n",
       "    <tr>\n",
       "      <th>2</th>\n",
       "      <td>381</td>\n",
       "      <td>2017-04-18</td>\n",
       "      <td>2017-04-20</td>\n",
       "      <td>Suspended</td>\n",
       "    </tr>\n",
       "    <tr>\n",
       "      <th>3</th>\n",
       "      <td>3500</td>\n",
       "      <td>2017-12-21</td>\n",
       "      <td>$null$</td>\n",
       "      <td>Suspended</td>\n",
       "    </tr>\n",
       "    <tr>\n",
       "      <th>4</th>\n",
       "      <td>3302</td>\n",
       "      <td>2016-08-23</td>\n",
       "      <td>2016-09-07</td>\n",
       "      <td>Suspended</td>\n",
       "    </tr>\n",
       "  </tbody>\n",
       "</table>\n",
       "</div>"
      ],
      "text/plain": [
       "   SUBSCRIBER_ID    START_DT      END_DT     STATUS\n",
       "0           5195  2017-12-27  2017-12-27  Suspended\n",
       "1           5198  2017-04-18  2017-04-18  Suspended\n",
       "2            381  2017-04-18  2017-04-20  Suspended\n",
       "3           3500  2017-12-21      $null$  Suspended\n",
       "4           3302  2016-08-23  2016-09-07  Suspended"
      ]
     },
     "execution_count": 14,
     "metadata": {},
     "output_type": "execute_result"
    }
   ],
   "source": [
    "public_key_3 = 'https://disk.yandex.by/d/l3btLoB6nxmHvA'  # Сюда вписываю мою ссылку\n",
    "# Получаю загрузочную ссылку\n",
    "final_url_3 = base_url + urlencode(dict(public_key=public_key_3))\n",
    "response_3 = requests.get(final_url_3)\n",
    "download_url_3 = response_3.json()['href']\n",
    "# Загружаю файл и сохраняю его\n",
    "r3 = requests.get(download_url_3)\n",
    "data_3 = r3.content\n",
    "suspended = pd.read_csv(BytesIO(data_3))\n",
    "suspended.head()"
   ]
  },
  {
   "cell_type": "code",
   "execution_count": 15,
   "id": "caa0f1e0",
   "metadata": {},
   "outputs": [
    {
     "data": {
      "text/plain": [
       "SUBSCRIBER_ID     int64\n",
       "START_DT         object\n",
       "END_DT           object\n",
       "STATUS           object\n",
       "dtype: object"
      ]
     },
     "execution_count": 15,
     "metadata": {},
     "output_type": "execute_result"
    }
   ],
   "source": [
    "# проверим типы данных\n",
    "suspended.dtypes"
   ]
  },
  {
   "cell_type": "code",
   "execution_count": 16,
   "id": "c0bffec6",
   "metadata": {},
   "outputs": [],
   "source": [
    "# заменим значение null на текущую дату NOW, которая была определена ранее.\n",
    "suspended.END_DT = [NOW if x == '$null$' else x for x in suspended.END_DT]"
   ]
  },
  {
   "cell_type": "code",
   "execution_count": 17,
   "id": "6714e8da",
   "metadata": {},
   "outputs": [],
   "source": [
    "#конвертирую данные в дату, где необходимо \n",
    "suspended['START_DT'] = pd.to_datetime(suspended.START_DT).dt.normalize()\n",
    "suspended['END_DT'] = pd.to_datetime(suspended.END_DT).dt.normalize()"
   ]
  },
  {
   "cell_type": "code",
   "execution_count": 18,
   "id": "777e7851",
   "metadata": {},
   "outputs": [
    {
     "data": {
      "text/plain": [
       "SUBSCRIBER_ID    0\n",
       "START_DT         0\n",
       "END_DT           0\n",
       "STATUS           0\n",
       "dtype: int64"
      ]
     },
     "execution_count": 18,
     "metadata": {},
     "output_type": "execute_result"
    }
   ],
   "source": [
    "# проверим данные на пропущенные значения\n",
    "suspended.isna().sum()"
   ]
  },
  {
   "cell_type": "markdown",
   "id": "85ca86fa",
   "metadata": {},
   "source": [
    "# Направления смен тарифных планов: с каких тарифных планов и на какие шли наибольшие перетоки? \n",
    "Визуализировать потоки миграций на диаграмме. "
   ]
  },
  {
   "cell_type": "markdown",
   "id": "33bab9c5",
   "metadata": {},
   "source": [
    "Для дальнейших расчетов приведем данные по дате подключения плана к началу месяца."
   ]
  },
  {
   "cell_type": "code",
   "execution_count": 19,
   "id": "75f0158b",
   "metadata": {},
   "outputs": [],
   "source": [
    "tariff_plans_change['start_month'] = pd.to_datetime(tariff_plans_change.START_DTTM).dt.to_period('M').dt.to_timestamp()"
   ]
  },
  {
   "cell_type": "markdown",
   "id": "7f5c0fd2",
   "metadata": {},
   "source": [
    "Создадим датафрейм с данными по перетокам по тарифным планам на основе первоначального *tariff_plans_change*."
   ]
  },
  {
   "cell_type": "code",
   "execution_count": 20,
   "id": "322aafb7",
   "metadata": {},
   "outputs": [
    {
     "data": {
      "text/html": [
       "<div>\n",
       "<style scoped>\n",
       "    .dataframe tbody tr th:only-of-type {\n",
       "        vertical-align: middle;\n",
       "    }\n",
       "\n",
       "    .dataframe tbody tr th {\n",
       "        vertical-align: top;\n",
       "    }\n",
       "\n",
       "    .dataframe thead th {\n",
       "        text-align: right;\n",
       "    }\n",
       "</style>\n",
       "<table border=\"1\" class=\"dataframe\">\n",
       "  <thead>\n",
       "    <tr style=\"text-align: right;\">\n",
       "      <th></th>\n",
       "      <th>SUBSCRIBER_ID</th>\n",
       "      <th>TARIFF_PLAN_ID_x</th>\n",
       "      <th>START_DTTM_x</th>\n",
       "      <th>END_DTTM_x</th>\n",
       "      <th>start_month</th>\n",
       "      <th>TARIFF_PLAN_ID_y</th>\n",
       "      <th>START_DTTM_y</th>\n",
       "      <th>END_DTTM_y</th>\n",
       "    </tr>\n",
       "  </thead>\n",
       "  <tbody>\n",
       "    <tr>\n",
       "      <th>1</th>\n",
       "      <td>1</td>\n",
       "      <td>3</td>\n",
       "      <td>2017-03-11</td>\n",
       "      <td>2017-07-01</td>\n",
       "      <td>2017-03-01</td>\n",
       "      <td>2.0</td>\n",
       "      <td>2013-11-22</td>\n",
       "      <td>2017-03-11</td>\n",
       "    </tr>\n",
       "    <tr>\n",
       "      <th>3</th>\n",
       "      <td>2</td>\n",
       "      <td>5</td>\n",
       "      <td>2017-06-29</td>\n",
       "      <td>2017-07-01</td>\n",
       "      <td>2017-06-01</td>\n",
       "      <td>1.0</td>\n",
       "      <td>2016-02-05</td>\n",
       "      <td>2017-06-29</td>\n",
       "    </tr>\n",
       "    <tr>\n",
       "      <th>5</th>\n",
       "      <td>3</td>\n",
       "      <td>5</td>\n",
       "      <td>2017-04-14</td>\n",
       "      <td>2017-07-01</td>\n",
       "      <td>2017-04-01</td>\n",
       "      <td>1.0</td>\n",
       "      <td>2015-05-06</td>\n",
       "      <td>2017-04-14</td>\n",
       "    </tr>\n",
       "    <tr>\n",
       "      <th>7</th>\n",
       "      <td>4</td>\n",
       "      <td>5</td>\n",
       "      <td>2017-01-09</td>\n",
       "      <td>2017-07-01</td>\n",
       "      <td>2017-01-01</td>\n",
       "      <td>3.0</td>\n",
       "      <td>2016-01-27</td>\n",
       "      <td>2017-01-09</td>\n",
       "    </tr>\n",
       "    <tr>\n",
       "      <th>9</th>\n",
       "      <td>5</td>\n",
       "      <td>5</td>\n",
       "      <td>2017-05-08</td>\n",
       "      <td>2017-07-01</td>\n",
       "      <td>2017-05-01</td>\n",
       "      <td>1.0</td>\n",
       "      <td>2016-02-06</td>\n",
       "      <td>2017-05-08</td>\n",
       "    </tr>\n",
       "  </tbody>\n",
       "</table>\n",
       "</div>"
      ],
      "text/plain": [
       "   SUBSCRIBER_ID  TARIFF_PLAN_ID_x START_DTTM_x END_DTTM_x start_month  \\\n",
       "1              1                 3   2017-03-11 2017-07-01  2017-03-01   \n",
       "3              2                 5   2017-06-29 2017-07-01  2017-06-01   \n",
       "5              3                 5   2017-04-14 2017-07-01  2017-04-01   \n",
       "7              4                 5   2017-01-09 2017-07-01  2017-01-01   \n",
       "9              5                 5   2017-05-08 2017-07-01  2017-05-01   \n",
       "\n",
       "   TARIFF_PLAN_ID_y START_DTTM_y END_DTTM_y  \n",
       "1               2.0   2013-11-22 2017-03-11  \n",
       "3               1.0   2016-02-05 2017-06-29  \n",
       "5               1.0   2015-05-06 2017-04-14  \n",
       "7               3.0   2016-01-27 2017-01-09  \n",
       "9               1.0   2016-02-06 2017-05-08  "
      ]
     },
     "execution_count": 20,
     "metadata": {},
     "output_type": "execute_result"
    }
   ],
   "source": [
    "full_plans = tariff_plans_change.merge(tariff_plans_change, how='left', left_on=['START_DTTM', 'SUBSCRIBER_ID'], right_on=['END_DTTM', 'SUBSCRIBER_ID'])\\\n",
    "    .dropna(subset=['TARIFF_PLAN_ID_y']).drop(columns=['start_month_y'])\\\n",
    "    .rename(columns={'start_month_x' : 'start_month'})\n",
    "full_plans.head()"
   ]
  },
  {
   "cell_type": "code",
   "execution_count": 21,
   "id": "298e24ef",
   "metadata": {},
   "outputs": [],
   "source": [
    "# конвертируем формат значений тарифов в int64\n",
    "full_plans['TARIFF_PLAN_ID_y'] = full_plans.TARIFF_PLAN_ID_y.astype('int64')\n",
    "full_plans['TARIFF_PLAN_ID_x'] = full_plans.TARIFF_PLAN_ID_x.astype('int64')"
   ]
  },
  {
   "cell_type": "markdown",
   "id": "2dffb66d",
   "metadata": {},
   "source": [
    "Для анализа направлений смен тарифных планов создадим новый датафрейм с данными по названиям тарифных планов и количеству пользователей."
   ]
  },
  {
   "cell_type": "code",
   "execution_count": 22,
   "id": "60eef07d",
   "metadata": {},
   "outputs": [
    {
     "data": {
      "text/html": [
       "<div>\n",
       "<style scoped>\n",
       "    .dataframe tbody tr th:only-of-type {\n",
       "        vertical-align: middle;\n",
       "    }\n",
       "\n",
       "    .dataframe tbody tr th {\n",
       "        vertical-align: top;\n",
       "    }\n",
       "\n",
       "    .dataframe thead th {\n",
       "        text-align: right;\n",
       "    }\n",
       "</style>\n",
       "<table border=\"1\" class=\"dataframe\">\n",
       "  <thead>\n",
       "    <tr style=\"text-align: right;\">\n",
       "      <th></th>\n",
       "      <th>start_month</th>\n",
       "      <th>TARIFF_PLAN_ID_x</th>\n",
       "      <th>TARIFF_PLAN_ID_y</th>\n",
       "      <th>count_SUBSCRIBERs</th>\n",
       "    </tr>\n",
       "  </thead>\n",
       "  <tbody>\n",
       "    <tr>\n",
       "      <th>0</th>\n",
       "      <td>2017-01-01</td>\n",
       "      <td>1</td>\n",
       "      <td>2</td>\n",
       "      <td>3</td>\n",
       "    </tr>\n",
       "    <tr>\n",
       "      <th>1</th>\n",
       "      <td>2017-01-01</td>\n",
       "      <td>1</td>\n",
       "      <td>3</td>\n",
       "      <td>8</td>\n",
       "    </tr>\n",
       "    <tr>\n",
       "      <th>2</th>\n",
       "      <td>2017-01-01</td>\n",
       "      <td>1</td>\n",
       "      <td>4</td>\n",
       "      <td>13</td>\n",
       "    </tr>\n",
       "    <tr>\n",
       "      <th>3</th>\n",
       "      <td>2017-01-01</td>\n",
       "      <td>1</td>\n",
       "      <td>5</td>\n",
       "      <td>7</td>\n",
       "    </tr>\n",
       "    <tr>\n",
       "      <th>4</th>\n",
       "      <td>2017-01-01</td>\n",
       "      <td>2</td>\n",
       "      <td>2</td>\n",
       "      <td>1</td>\n",
       "    </tr>\n",
       "  </tbody>\n",
       "</table>\n",
       "</div>"
      ],
      "text/plain": [
       "  start_month  TARIFF_PLAN_ID_x  TARIFF_PLAN_ID_y  count_SUBSCRIBERs\n",
       "0  2017-01-01                 1                 2                  3\n",
       "1  2017-01-01                 1                 3                  8\n",
       "2  2017-01-01                 1                 4                 13\n",
       "3  2017-01-01                 1                 5                  7\n",
       "4  2017-01-01                 2                 2                  1"
      ]
     },
     "execution_count": 22,
     "metadata": {},
     "output_type": "execute_result"
    }
   ],
   "source": [
    "# TARIFF_PLAN_ID_x - start\n",
    "# TARIFF_PLAN_ID_y - end\n",
    "flow_plans = full_plans.groupby(['start_month', 'TARIFF_PLAN_ID_x', 'TARIFF_PLAN_ID_y'], as_index=False)\\\n",
    "    .agg({'SUBSCRIBER_ID' : 'nunique'}).rename(columns={'SUBSCRIBER_ID' : 'count_SUBSCRIBERs'})\n",
    "flow_plans.head()"
   ]
  },
  {
   "cell_type": "code",
   "execution_count": 23,
   "id": "14af7872",
   "metadata": {},
   "outputs": [],
   "source": [
    "# ограничим датафрейм запрашиваемым периодом в полгода 2017\n",
    "flow_plans = flow_plans.query(\"start_month >= '2017-01-01' and start_month < '2017-07-01'\")"
   ]
  },
  {
   "cell_type": "code",
   "execution_count": 24,
   "id": "e2a797e2",
   "metadata": {},
   "outputs": [],
   "source": [
    "# создадим столбец с потоком смены тарифного плана и номером месяца смены\n",
    "flow_plans['flow_end_start'] = flow_plans.TARIFF_PLAN_ID_y.astype(str) + '->' + flow_plans.TARIFF_PLAN_ID_x.astype(str)\n",
    "flow_plans['month_flow'] = flow_plans.start_month.dt.month"
   ]
  },
  {
   "cell_type": "code",
   "execution_count": 25,
   "id": "91db4ff4",
   "metadata": {},
   "outputs": [
    {
     "data": {
      "text/html": [
       "<div>\n",
       "<style scoped>\n",
       "    .dataframe tbody tr th:only-of-type {\n",
       "        vertical-align: middle;\n",
       "    }\n",
       "\n",
       "    .dataframe tbody tr th {\n",
       "        vertical-align: top;\n",
       "    }\n",
       "\n",
       "    .dataframe thead th {\n",
       "        text-align: right;\n",
       "    }\n",
       "</style>\n",
       "<table border=\"1\" class=\"dataframe\">\n",
       "  <thead>\n",
       "    <tr style=\"text-align: right;\">\n",
       "      <th></th>\n",
       "      <th>start_month</th>\n",
       "      <th>TARIFF_PLAN_ID_x</th>\n",
       "      <th>TARIFF_PLAN_ID_y</th>\n",
       "      <th>count_SUBSCRIBERs</th>\n",
       "      <th>flow_end_start</th>\n",
       "      <th>month_flow</th>\n",
       "    </tr>\n",
       "  </thead>\n",
       "  <tbody>\n",
       "    <tr>\n",
       "      <th>0</th>\n",
       "      <td>2017-01-01</td>\n",
       "      <td>1</td>\n",
       "      <td>2</td>\n",
       "      <td>3</td>\n",
       "      <td>2-&gt;1</td>\n",
       "      <td>1</td>\n",
       "    </tr>\n",
       "    <tr>\n",
       "      <th>1</th>\n",
       "      <td>2017-01-01</td>\n",
       "      <td>1</td>\n",
       "      <td>3</td>\n",
       "      <td>8</td>\n",
       "      <td>3-&gt;1</td>\n",
       "      <td>1</td>\n",
       "    </tr>\n",
       "    <tr>\n",
       "      <th>2</th>\n",
       "      <td>2017-01-01</td>\n",
       "      <td>1</td>\n",
       "      <td>4</td>\n",
       "      <td>13</td>\n",
       "      <td>4-&gt;1</td>\n",
       "      <td>1</td>\n",
       "    </tr>\n",
       "    <tr>\n",
       "      <th>3</th>\n",
       "      <td>2017-01-01</td>\n",
       "      <td>1</td>\n",
       "      <td>5</td>\n",
       "      <td>7</td>\n",
       "      <td>5-&gt;1</td>\n",
       "      <td>1</td>\n",
       "    </tr>\n",
       "    <tr>\n",
       "      <th>4</th>\n",
       "      <td>2017-01-01</td>\n",
       "      <td>2</td>\n",
       "      <td>2</td>\n",
       "      <td>1</td>\n",
       "      <td>2-&gt;2</td>\n",
       "      <td>1</td>\n",
       "    </tr>\n",
       "  </tbody>\n",
       "</table>\n",
       "</div>"
      ],
      "text/plain": [
       "  start_month  TARIFF_PLAN_ID_x  TARIFF_PLAN_ID_y  count_SUBSCRIBERs  \\\n",
       "0  2017-01-01                 1                 2                  3   \n",
       "1  2017-01-01                 1                 3                  8   \n",
       "2  2017-01-01                 1                 4                 13   \n",
       "3  2017-01-01                 1                 5                  7   \n",
       "4  2017-01-01                 2                 2                  1   \n",
       "\n",
       "  flow_end_start  month_flow  \n",
       "0           2->1           1  \n",
       "1           3->1           1  \n",
       "2           4->1           1  \n",
       "3           5->1           1  \n",
       "4           2->2           1  "
      ]
     },
     "execution_count": 25,
     "metadata": {},
     "output_type": "execute_result"
    }
   ],
   "source": [
    "flow_plans.head()"
   ]
  },
  {
   "cell_type": "code",
   "execution_count": 26,
   "id": "b603146f",
   "metadata": {},
   "outputs": [
    {
     "data": {
      "text/plain": [
       "(118, 6)"
      ]
     },
     "execution_count": 26,
     "metadata": {},
     "output_type": "execute_result"
    }
   ],
   "source": [
    "# проверим новую размерность\n",
    "flow_plans.shape"
   ]
  },
  {
   "cell_type": "code",
   "execution_count": 27,
   "id": "1095606c",
   "metadata": {},
   "outputs": [
    {
     "data": {
      "text/html": [
       "<div>\n",
       "<style scoped>\n",
       "    .dataframe tbody tr th:only-of-type {\n",
       "        vertical-align: middle;\n",
       "    }\n",
       "\n",
       "    .dataframe tbody tr th {\n",
       "        vertical-align: top;\n",
       "    }\n",
       "\n",
       "    .dataframe thead th {\n",
       "        text-align: right;\n",
       "    }\n",
       "</style>\n",
       "<table border=\"1\" class=\"dataframe\">\n",
       "  <thead>\n",
       "    <tr style=\"text-align: right;\">\n",
       "      <th></th>\n",
       "      <th>month_flow</th>\n",
       "      <th>flow_end_start</th>\n",
       "      <th>count_SUBSCRIBERs</th>\n",
       "    </tr>\n",
       "  </thead>\n",
       "  <tbody>\n",
       "    <tr>\n",
       "      <th>0</th>\n",
       "      <td>1</td>\n",
       "      <td>1-&gt;3</td>\n",
       "      <td>23</td>\n",
       "    </tr>\n",
       "    <tr>\n",
       "      <th>1</th>\n",
       "      <td>1</td>\n",
       "      <td>1-&gt;4</td>\n",
       "      <td>129</td>\n",
       "    </tr>\n",
       "    <tr>\n",
       "      <th>2</th>\n",
       "      <td>1</td>\n",
       "      <td>1-&gt;5</td>\n",
       "      <td>212</td>\n",
       "    </tr>\n",
       "    <tr>\n",
       "      <th>3</th>\n",
       "      <td>1</td>\n",
       "      <td>2-&gt;1</td>\n",
       "      <td>3</td>\n",
       "    </tr>\n",
       "    <tr>\n",
       "      <th>4</th>\n",
       "      <td>1</td>\n",
       "      <td>2-&gt;2</td>\n",
       "      <td>1</td>\n",
       "    </tr>\n",
       "  </tbody>\n",
       "</table>\n",
       "</div>"
      ],
      "text/plain": [
       "   month_flow flow_end_start  count_SUBSCRIBERs\n",
       "0           1           1->3                 23\n",
       "1           1           1->4                129\n",
       "2           1           1->5                212\n",
       "3           1           2->1                  3\n",
       "4           1           2->2                  1"
      ]
     },
     "execution_count": 27,
     "metadata": {},
     "output_type": "execute_result"
    }
   ],
   "source": [
    "# аггрегируем датафрейм в разрезе месяца и потока смены тарифного плана\n",
    "flow_plans_total = flow_plans.groupby(['month_flow', 'flow_end_start'], as_index=False).agg({'count_SUBSCRIBERs' : 'sum'})\n",
    "flow_plans_total.head()"
   ]
  },
  {
   "cell_type": "code",
   "execution_count": 28,
   "id": "e2ae94f5",
   "metadata": {},
   "outputs": [
    {
     "data": {
      "text/plain": [
       "(118, 3)"
      ]
     },
     "execution_count": 28,
     "metadata": {},
     "output_type": "execute_result"
    }
   ],
   "source": [
    "flow_plans_total.shape"
   ]
  },
  {
   "cell_type": "markdown",
   "id": "72f20ce9",
   "metadata": {},
   "source": [
    "Визуализируем полученный результат"
   ]
  },
  {
   "cell_type": "code",
   "execution_count": 29,
   "id": "e1518148",
   "metadata": {},
   "outputs": [
    {
     "data": {
      "image/png": "[encoded data removed]",
      "text/plain": [
       "<Figure size 1440x504 with 1 Axes>"
      ]
     },
     "metadata": {},
     "output_type": "display_data"
    }
   ],
   "source": [
    "sns.set(rc={\"figure.figsize\":(20, 7)})\n",
    "sns.set_style(\"whitegrid\")\n",
    "viz_flow_plans = sns.barplot(x='flow_end_start', y='count_SUBSCRIBERs', hue='month_flow', data=flow_plans_total)\n",
    "viz_flow_plans.set_xlabel('Tariff plan changes')\n",
    "viz_flow_plans.set_ylabel('Count subscribers')\n",
    "viz_flow_plans.set_title('Directions of plan changes')\n",
    "plt.legend(loc='upper left')\n",
    "sns.despine()"
   ]
  },
  {
   "cell_type": "markdown",
   "id": "0cc1397e",
   "metadata": {},
   "source": [
    "Исходя из полученного графика можно сказать, что большие перетоки пользователей наблюдались с 1 на 5 т.п. и с 3 на 5 т.п."
   ]
  },
  {
   "cell_type": "markdown",
   "id": "7d9ba96e",
   "metadata": {},
   "source": [
    "**Насколько изменился среднемесячный счет абонентов за период 3 месяца после месяца смены тарифного плана в сравнении с периодом 3 месяца до месяца смены тарифного плана.**"
   ]
  },
  {
   "cell_type": "markdown",
   "id": "3a34cb93",
   "metadata": {},
   "source": [
    "Объединим датафрейм из предыдущего пункта и датафрейм charges с данными о платежах."
   ]
  },
  {
   "cell_type": "code",
   "execution_count": 30,
   "id": "84cc78db",
   "metadata": {},
   "outputs": [
    {
     "data": {
      "text/html": [
       "<div>\n",
       "<style scoped>\n",
       "    .dataframe tbody tr th:only-of-type {\n",
       "        vertical-align: middle;\n",
       "    }\n",
       "\n",
       "    .dataframe tbody tr th {\n",
       "        vertical-align: top;\n",
       "    }\n",
       "\n",
       "    .dataframe thead th {\n",
       "        text-align: right;\n",
       "    }\n",
       "</style>\n",
       "<table border=\"1\" class=\"dataframe\">\n",
       "  <thead>\n",
       "    <tr style=\"text-align: right;\">\n",
       "      <th></th>\n",
       "      <th>SUBSCRIBER_ID</th>\n",
       "      <th>TARIFF_PLAN_ID_x</th>\n",
       "      <th>START_DTTM_x</th>\n",
       "      <th>END_DTTM_x</th>\n",
       "      <th>start_month</th>\n",
       "      <th>TARIFF_PLAN_ID_y</th>\n",
       "      <th>START_DTTM_y</th>\n",
       "      <th>END_DTTM_y</th>\n",
       "      <th>BILL_MONTH</th>\n",
       "      <th>CHARGES</th>\n",
       "    </tr>\n",
       "  </thead>\n",
       "  <tbody>\n",
       "    <tr>\n",
       "      <th>0</th>\n",
       "      <td>1</td>\n",
       "      <td>3</td>\n",
       "      <td>2017-03-11</td>\n",
       "      <td>2017-07-01</td>\n",
       "      <td>2017-03-01</td>\n",
       "      <td>2</td>\n",
       "      <td>2013-11-22</td>\n",
       "      <td>2017-03-11</td>\n",
       "      <td>2016-12-01</td>\n",
       "      <td>21.132</td>\n",
       "    </tr>\n",
       "    <tr>\n",
       "      <th>1</th>\n",
       "      <td>1</td>\n",
       "      <td>3</td>\n",
       "      <td>2017-03-11</td>\n",
       "      <td>2017-07-01</td>\n",
       "      <td>2017-03-01</td>\n",
       "      <td>2</td>\n",
       "      <td>2013-11-22</td>\n",
       "      <td>2017-03-11</td>\n",
       "      <td>2017-10-01</td>\n",
       "      <td>20.464</td>\n",
       "    </tr>\n",
       "    <tr>\n",
       "      <th>2</th>\n",
       "      <td>1</td>\n",
       "      <td>3</td>\n",
       "      <td>2017-03-11</td>\n",
       "      <td>2017-07-01</td>\n",
       "      <td>2017-03-01</td>\n",
       "      <td>2</td>\n",
       "      <td>2013-11-22</td>\n",
       "      <td>2017-03-11</td>\n",
       "      <td>2017-06-01</td>\n",
       "      <td>23.651</td>\n",
       "    </tr>\n",
       "    <tr>\n",
       "      <th>3</th>\n",
       "      <td>1</td>\n",
       "      <td>3</td>\n",
       "      <td>2017-03-11</td>\n",
       "      <td>2017-07-01</td>\n",
       "      <td>2017-03-01</td>\n",
       "      <td>2</td>\n",
       "      <td>2013-11-22</td>\n",
       "      <td>2017-03-11</td>\n",
       "      <td>2016-09-01</td>\n",
       "      <td>24.964</td>\n",
       "    </tr>\n",
       "    <tr>\n",
       "      <th>4</th>\n",
       "      <td>1</td>\n",
       "      <td>3</td>\n",
       "      <td>2017-03-11</td>\n",
       "      <td>2017-07-01</td>\n",
       "      <td>2017-03-01</td>\n",
       "      <td>2</td>\n",
       "      <td>2013-11-22</td>\n",
       "      <td>2017-03-11</td>\n",
       "      <td>2017-09-01</td>\n",
       "      <td>24.012</td>\n",
       "    </tr>\n",
       "  </tbody>\n",
       "</table>\n",
       "</div>"
      ],
      "text/plain": [
       "   SUBSCRIBER_ID  TARIFF_PLAN_ID_x START_DTTM_x END_DTTM_x start_month  \\\n",
       "0              1                 3   2017-03-11 2017-07-01  2017-03-01   \n",
       "1              1                 3   2017-03-11 2017-07-01  2017-03-01   \n",
       "2              1                 3   2017-03-11 2017-07-01  2017-03-01   \n",
       "3              1                 3   2017-03-11 2017-07-01  2017-03-01   \n",
       "4              1                 3   2017-03-11 2017-07-01  2017-03-01   \n",
       "\n",
       "   TARIFF_PLAN_ID_y START_DTTM_y END_DTTM_y BILL_MONTH  CHARGES  \n",
       "0                 2   2013-11-22 2017-03-11 2016-12-01   21.132  \n",
       "1                 2   2013-11-22 2017-03-11 2017-10-01   20.464  \n",
       "2                 2   2013-11-22 2017-03-11 2017-06-01   23.651  \n",
       "3                 2   2013-11-22 2017-03-11 2016-09-01   24.964  \n",
       "4                 2   2013-11-22 2017-03-11 2017-09-01   24.012  "
      ]
     },
     "execution_count": 30,
     "metadata": {},
     "output_type": "execute_result"
    }
   ],
   "source": [
    "tariff_plans_charges = full_plans.merge(charges, how='left', on='SUBSCRIBER_ID')\n",
    "tariff_plans_charges.head()"
   ]
  },
  {
   "cell_type": "code",
   "execution_count": 31,
   "id": "e8cc73a0",
   "metadata": {},
   "outputs": [],
   "source": [
    "# создадим столбец с названием потока смены тарифного плана\n",
    "tariff_plans_charges['flow_end_start'] = tariff_plans_charges.TARIFF_PLAN_ID_y.astype(str) + '->' + tariff_plans_charges.TARIFF_PLAN_ID_x.astype(str)"
   ]
  },
  {
   "cell_type": "code",
   "execution_count": 32,
   "id": "b19aabf9",
   "metadata": {},
   "outputs": [
    {
     "data": {
      "text/html": [
       "<div>\n",
       "<style scoped>\n",
       "    .dataframe tbody tr th:only-of-type {\n",
       "        vertical-align: middle;\n",
       "    }\n",
       "\n",
       "    .dataframe tbody tr th {\n",
       "        vertical-align: top;\n",
       "    }\n",
       "\n",
       "    .dataframe thead th {\n",
       "        text-align: right;\n",
       "    }\n",
       "</style>\n",
       "<table border=\"1\" class=\"dataframe\">\n",
       "  <thead>\n",
       "    <tr style=\"text-align: right;\">\n",
       "      <th></th>\n",
       "      <th>SUBSCRIBER_ID</th>\n",
       "      <th>start_month</th>\n",
       "      <th>BILL_MONTH</th>\n",
       "      <th>CHARGES</th>\n",
       "      <th>flow_end_start</th>\n",
       "    </tr>\n",
       "  </thead>\n",
       "  <tbody>\n",
       "    <tr>\n",
       "      <th>0</th>\n",
       "      <td>1</td>\n",
       "      <td>2017-03-01</td>\n",
       "      <td>2016-12-01</td>\n",
       "      <td>21.132</td>\n",
       "      <td>2-&gt;3</td>\n",
       "    </tr>\n",
       "    <tr>\n",
       "      <th>1</th>\n",
       "      <td>1</td>\n",
       "      <td>2017-03-01</td>\n",
       "      <td>2017-10-01</td>\n",
       "      <td>20.464</td>\n",
       "      <td>2-&gt;3</td>\n",
       "    </tr>\n",
       "    <tr>\n",
       "      <th>2</th>\n",
       "      <td>1</td>\n",
       "      <td>2017-03-01</td>\n",
       "      <td>2017-06-01</td>\n",
       "      <td>23.651</td>\n",
       "      <td>2-&gt;3</td>\n",
       "    </tr>\n",
       "    <tr>\n",
       "      <th>3</th>\n",
       "      <td>1</td>\n",
       "      <td>2017-03-01</td>\n",
       "      <td>2016-09-01</td>\n",
       "      <td>24.964</td>\n",
       "      <td>2-&gt;3</td>\n",
       "    </tr>\n",
       "    <tr>\n",
       "      <th>4</th>\n",
       "      <td>1</td>\n",
       "      <td>2017-03-01</td>\n",
       "      <td>2017-09-01</td>\n",
       "      <td>24.012</td>\n",
       "      <td>2-&gt;3</td>\n",
       "    </tr>\n",
       "  </tbody>\n",
       "</table>\n",
       "</div>"
      ],
      "text/plain": [
       "   SUBSCRIBER_ID start_month BILL_MONTH  CHARGES flow_end_start\n",
       "0              1  2017-03-01 2016-12-01   21.132           2->3\n",
       "1              1  2017-03-01 2017-10-01   20.464           2->3\n",
       "2              1  2017-03-01 2017-06-01   23.651           2->3\n",
       "3              1  2017-03-01 2016-09-01   24.964           2->3\n",
       "4              1  2017-03-01 2017-09-01   24.012           2->3"
      ]
     },
     "execution_count": 32,
     "metadata": {},
     "output_type": "execute_result"
    }
   ],
   "source": [
    "# удалим ненужные колонки\n",
    "tariff_plans_charges = tariff_plans_charges.drop(columns=['TARIFF_PLAN_ID_x', 'TARIFF_PLAN_ID_y', 'START_DTTM_x', 'END_DTTM_x', \n",
    "                                                         'START_DTTM_y', 'END_DTTM_y'])\n",
    "tariff_plans_charges.head()"
   ]
  },
  {
   "cell_type": "code",
   "execution_count": 33,
   "id": "76cf9da4",
   "metadata": {},
   "outputs": [],
   "source": [
    "# создадим столбец с разницей в месяцах между началом смены тарифного плана и месяцем платежа\n",
    "tariff_plans_charges['timedelta_month'] = ((tariff_plans_charges.start_month - tariff_plans_charges.BILL_MONTH)/np.timedelta64(1, 'M'))\n",
    "tariff_plans_charges['timedelta_month'] = tariff_plans_charges['timedelta_month'].astype(int)"
   ]
  },
  {
   "cell_type": "code",
   "execution_count": 34,
   "id": "0fb916fc",
   "metadata": {},
   "outputs": [],
   "source": [
    "# сузим период для анализа данных до 4 месяцев, т.к. объединение датафреймов происходило только по SUBSCRIBER_ID, без даты\n",
    "tariff_plans_charges = tariff_plans_charges.query(\"timedelta_month > -4 and timedelta_month < 4\")\\\n",
    "    .drop(columns=['timedelta_month'])"
   ]
  },
  {
   "cell_type": "code",
   "execution_count": 35,
   "id": "69fb031d",
   "metadata": {},
   "outputs": [
    {
     "data": {
      "text/plain": [
       "SUBSCRIBER_ID              int64\n",
       "start_month       datetime64[ns]\n",
       "BILL_MONTH        datetime64[ns]\n",
       "CHARGES                  float64\n",
       "flow_end_start            object\n",
       "dtype: object"
      ]
     },
     "execution_count": 35,
     "metadata": {},
     "output_type": "execute_result"
    }
   ],
   "source": [
    "tariff_plans_charges.dtypes"
   ]
  },
  {
   "cell_type": "markdown",
   "id": "5d7e20f9",
   "metadata": {},
   "source": [
    "Аггрегируем датафрейм по пользователю и датам и рассчитаем средневзвешенные платежи"
   ]
  },
  {
   "cell_type": "code",
   "execution_count": 36,
   "id": "264808db",
   "metadata": {},
   "outputs": [
    {
     "data": {
      "text/html": [
       "<div>\n",
       "<style scoped>\n",
       "    .dataframe tbody tr th:only-of-type {\n",
       "        vertical-align: middle;\n",
       "    }\n",
       "\n",
       "    .dataframe tbody tr th {\n",
       "        vertical-align: top;\n",
       "    }\n",
       "\n",
       "    .dataframe thead th {\n",
       "        text-align: right;\n",
       "    }\n",
       "</style>\n",
       "<table border=\"1\" class=\"dataframe\">\n",
       "  <thead>\n",
       "    <tr style=\"text-align: right;\">\n",
       "      <th></th>\n",
       "      <th>SUBSCRIBER_ID</th>\n",
       "      <th>start_month</th>\n",
       "      <th>BILL_MONTH</th>\n",
       "      <th>CHARGES</th>\n",
       "    </tr>\n",
       "  </thead>\n",
       "  <tbody>\n",
       "    <tr>\n",
       "      <th>0</th>\n",
       "      <td>1</td>\n",
       "      <td>2017-03-01</td>\n",
       "      <td>2016-11-01</td>\n",
       "      <td>NaN</td>\n",
       "    </tr>\n",
       "    <tr>\n",
       "      <th>1</th>\n",
       "      <td>1</td>\n",
       "      <td>2017-03-01</td>\n",
       "      <td>2016-12-01</td>\n",
       "      <td>NaN</td>\n",
       "    </tr>\n",
       "    <tr>\n",
       "      <th>2</th>\n",
       "      <td>1</td>\n",
       "      <td>2017-03-01</td>\n",
       "      <td>2017-01-01</td>\n",
       "      <td>21.258</td>\n",
       "    </tr>\n",
       "    <tr>\n",
       "      <th>3</th>\n",
       "      <td>1</td>\n",
       "      <td>2017-03-01</td>\n",
       "      <td>2017-02-01</td>\n",
       "      <td>23.086</td>\n",
       "    </tr>\n",
       "    <tr>\n",
       "      <th>4</th>\n",
       "      <td>1</td>\n",
       "      <td>2017-03-01</td>\n",
       "      <td>2017-03-01</td>\n",
       "      <td>25.262</td>\n",
       "    </tr>\n",
       "  </tbody>\n",
       "</table>\n",
       "</div>"
      ],
      "text/plain": [
       "   SUBSCRIBER_ID start_month BILL_MONTH  CHARGES\n",
       "0              1  2017-03-01 2016-11-01      NaN\n",
       "1              1  2017-03-01 2016-12-01      NaN\n",
       "2              1  2017-03-01 2017-01-01   21.258\n",
       "3              1  2017-03-01 2017-02-01   23.086\n",
       "4              1  2017-03-01 2017-03-01   25.262"
      ]
     },
     "execution_count": 36,
     "metadata": {},
     "output_type": "execute_result"
    }
   ],
   "source": [
    "rolling_mean_total = tariff_plans_charges.groupby(['SUBSCRIBER_ID', 'start_month', 'BILL_MONTH']).agg({'CHARGES' : 'mean'})\\\n",
    "    .sort_values(['SUBSCRIBER_ID', 'start_month', 'BILL_MONTH']).rolling(3).mean().reset_index()\n",
    "rolling_mean_total.head()"
   ]
  },
  {
   "cell_type": "code",
   "execution_count": 37,
   "id": "899ef0b4",
   "metadata": {},
   "outputs": [],
   "source": [
    "# создадим столбец с разницей в месяцах между началом смены тарифного плана и месяцем платежа\n",
    "rolling_mean_total['timedelta_month'] = ((rolling_mean_total.start_month - rolling_mean_total.BILL_MONTH)/np.timedelta64(1, 'M'))\n",
    "rolling_mean_total['timedelta_month'] = rolling_mean_total['timedelta_month'].astype(int)"
   ]
  },
  {
   "cell_type": "markdown",
   "id": "adc0cbc3",
   "metadata": {},
   "source": [
    "Аггрегируем датафрейм в разрезе месяца и периода смены тарифного плана.\n",
    "<br> **-3** - 3 месяца после смены тарифного плана\n",
    "<br> **1** - 3 месяца до смены тарифного плана"
   ]
  },
  {
   "cell_type": "code",
   "execution_count": 38,
   "id": "67738210",
   "metadata": {},
   "outputs": [
    {
     "data": {
      "text/html": [
       "<div>\n",
       "<style scoped>\n",
       "    .dataframe tbody tr th:only-of-type {\n",
       "        vertical-align: middle;\n",
       "    }\n",
       "\n",
       "    .dataframe tbody tr th {\n",
       "        vertical-align: top;\n",
       "    }\n",
       "\n",
       "    .dataframe thead th {\n",
       "        text-align: right;\n",
       "    }\n",
       "</style>\n",
       "<table border=\"1\" class=\"dataframe\">\n",
       "  <thead>\n",
       "    <tr style=\"text-align: right;\">\n",
       "      <th></th>\n",
       "      <th>start_month</th>\n",
       "      <th>timedelta_month</th>\n",
       "      <th>CHARGES</th>\n",
       "    </tr>\n",
       "  </thead>\n",
       "  <tbody>\n",
       "    <tr>\n",
       "      <th>0</th>\n",
       "      <td>2017-01-01</td>\n",
       "      <td>-3</td>\n",
       "      <td>6.289636</td>\n",
       "    </tr>\n",
       "    <tr>\n",
       "      <th>1</th>\n",
       "      <td>2017-01-01</td>\n",
       "      <td>1</td>\n",
       "      <td>8.185914</td>\n",
       "    </tr>\n",
       "    <tr>\n",
       "      <th>2</th>\n",
       "      <td>2017-02-01</td>\n",
       "      <td>-3</td>\n",
       "      <td>6.567241</td>\n",
       "    </tr>\n",
       "    <tr>\n",
       "      <th>3</th>\n",
       "      <td>2017-02-01</td>\n",
       "      <td>1</td>\n",
       "      <td>8.243824</td>\n",
       "    </tr>\n",
       "    <tr>\n",
       "      <th>4</th>\n",
       "      <td>2017-03-01</td>\n",
       "      <td>-3</td>\n",
       "      <td>6.663179</td>\n",
       "    </tr>\n",
       "  </tbody>\n",
       "</table>\n",
       "</div>"
      ],
      "text/plain": [
       "  start_month  timedelta_month   CHARGES\n",
       "0  2017-01-01               -3  6.289636\n",
       "1  2017-01-01                1  8.185914\n",
       "2  2017-02-01               -3  6.567241\n",
       "3  2017-02-01                1  8.243824\n",
       "4  2017-03-01               -3  6.663179"
      ]
     },
     "execution_count": 38,
     "metadata": {},
     "output_type": "execute_result"
    }
   ],
   "source": [
    "mean_charges = rolling_mean_total.query(\"timedelta_month in [1, -3]\")\\\n",
    "    .groupby(['start_month', 'timedelta_month'], as_index=False).agg({'CHARGES' : 'mean'})\n",
    "mean_charges.head()"
   ]
  },
  {
   "cell_type": "markdown",
   "id": "ef724732",
   "metadata": {},
   "source": [
    "Визуализируем полученный результат"
   ]
  },
  {
   "cell_type": "code",
   "execution_count": 39,
   "id": "a39302e3",
   "metadata": {},
   "outputs": [
    {
     "data": {
      "image/png": "[encoded data removed]",
      "text/plain": [
       "<Figure size 1440x504 with 1 Axes>"
      ]
     },
     "metadata": {},
     "output_type": "display_data"
    }
   ],
   "source": [
    "viz_mean_charges = sns.lineplot(x='start_month', y='CHARGES', hue='timedelta_month', data=mean_charges)\n",
    "viz_mean_charges.set_xlabel('Month of change tariff plan')\n",
    "viz_mean_charges.set_ylabel('Mean charges')\n",
    "viz_mean_charges.set_title('Total dynamics charges before and after 3 month of change tariff plan')\n",
    "plt.legend(loc='upper left')\n",
    "sns.despine()"
   ]
  },
  {
   "cell_type": "markdown",
   "id": "2181c754",
   "metadata": {},
   "source": [
    "На графике мы можем видеть, что среднемесячный счет абонентов за период 3 месяца после месяца смены тарифного плана значительно снизился в сравнении с периодом 3 месяца до месяца смены тарифного плана."
   ]
  },
  {
   "cell_type": "markdown",
   "id": "73c4609c",
   "metadata": {},
   "source": [
    "**Какие направления смен тарифных планов характеризовались ростом среднего счета в трехмесячном периоде после месяца смены тарифного плана в сравнении с периодом 3 месяца до месяца смены тарифного плана, а какие – сокращением.**"
   ]
  },
  {
   "cell_type": "markdown",
   "id": "2b2fa656",
   "metadata": {},
   "source": [
    "Аггрегируем датафрейм по пользователю и потокам смены тарифного плана и рассчитаем средневзвешенные платежи"
   ]
  },
  {
   "cell_type": "code",
   "execution_count": 40,
   "id": "59fddd69",
   "metadata": {},
   "outputs": [
    {
     "data": {
      "text/html": [
       "<div>\n",
       "<style scoped>\n",
       "    .dataframe tbody tr th:only-of-type {\n",
       "        vertical-align: middle;\n",
       "    }\n",
       "\n",
       "    .dataframe tbody tr th {\n",
       "        vertical-align: top;\n",
       "    }\n",
       "\n",
       "    .dataframe thead th {\n",
       "        text-align: right;\n",
       "    }\n",
       "</style>\n",
       "<table border=\"1\" class=\"dataframe\">\n",
       "  <thead>\n",
       "    <tr style=\"text-align: right;\">\n",
       "      <th></th>\n",
       "      <th>SUBSCRIBER_ID</th>\n",
       "      <th>flow_end_start</th>\n",
       "      <th>start_month</th>\n",
       "      <th>BILL_MONTH</th>\n",
       "      <th>CHARGES</th>\n",
       "    </tr>\n",
       "  </thead>\n",
       "  <tbody>\n",
       "    <tr>\n",
       "      <th>0</th>\n",
       "      <td>1</td>\n",
       "      <td>2-&gt;3</td>\n",
       "      <td>2017-03-01</td>\n",
       "      <td>2016-11-01</td>\n",
       "      <td>NaN</td>\n",
       "    </tr>\n",
       "    <tr>\n",
       "      <th>1</th>\n",
       "      <td>1</td>\n",
       "      <td>2-&gt;3</td>\n",
       "      <td>2017-03-01</td>\n",
       "      <td>2016-12-01</td>\n",
       "      <td>NaN</td>\n",
       "    </tr>\n",
       "    <tr>\n",
       "      <th>2</th>\n",
       "      <td>1</td>\n",
       "      <td>2-&gt;3</td>\n",
       "      <td>2017-03-01</td>\n",
       "      <td>2017-01-01</td>\n",
       "      <td>21.258</td>\n",
       "    </tr>\n",
       "    <tr>\n",
       "      <th>3</th>\n",
       "      <td>1</td>\n",
       "      <td>2-&gt;3</td>\n",
       "      <td>2017-03-01</td>\n",
       "      <td>2017-02-01</td>\n",
       "      <td>23.086</td>\n",
       "    </tr>\n",
       "    <tr>\n",
       "      <th>4</th>\n",
       "      <td>1</td>\n",
       "      <td>2-&gt;3</td>\n",
       "      <td>2017-03-01</td>\n",
       "      <td>2017-03-01</td>\n",
       "      <td>25.262</td>\n",
       "    </tr>\n",
       "  </tbody>\n",
       "</table>\n",
       "</div>"
      ],
      "text/plain": [
       "   SUBSCRIBER_ID flow_end_start start_month BILL_MONTH  CHARGES\n",
       "0              1           2->3  2017-03-01 2016-11-01      NaN\n",
       "1              1           2->3  2017-03-01 2016-12-01      NaN\n",
       "2              1           2->3  2017-03-01 2017-01-01   21.258\n",
       "3              1           2->3  2017-03-01 2017-02-01   23.086\n",
       "4              1           2->3  2017-03-01 2017-03-01   25.262"
      ]
     },
     "execution_count": 40,
     "metadata": {},
     "output_type": "execute_result"
    }
   ],
   "source": [
    "rolling_mean_flow = tariff_plans_charges.groupby(['SUBSCRIBER_ID', 'flow_end_start', 'start_month', 'BILL_MONTH'])\\\n",
    "    .agg({'CHARGES' : 'mean'})\\\n",
    "    .sort_values(['SUBSCRIBER_ID', 'flow_end_start', 'start_month', 'BILL_MONTH']).rolling(3).mean().reset_index()\n",
    "rolling_mean_flow.head()"
   ]
  },
  {
   "cell_type": "code",
   "execution_count": 41,
   "id": "5b497fe1",
   "metadata": {},
   "outputs": [],
   "source": [
    "# создадим столбец с разницей в месяцах между началом смены тарифного плана и месяцем платежа\n",
    "rolling_mean_flow['timedelta_month'] = ((rolling_mean_flow.start_month - rolling_mean_flow.BILL_MONTH)/np.timedelta64(1, 'M'))\n",
    "rolling_mean_flow['timedelta_month'] = rolling_mean_flow['timedelta_month'].astype(int)"
   ]
  },
  {
   "cell_type": "markdown",
   "id": "49ad9037",
   "metadata": {},
   "source": [
    "Аггрегируем датафрейм в разрезе потока и периода смены тарифного плана.\n",
    "<br> **-3** - 3 месяца после смены тарифного плана\n",
    "<br> **1** - 3 месяца до смены тарифного плана"
   ]
  },
  {
   "cell_type": "code",
   "execution_count": 42,
   "id": "8eb76144",
   "metadata": {},
   "outputs": [
    {
     "data": {
      "text/html": [
       "<div>\n",
       "<style scoped>\n",
       "    .dataframe tbody tr th:only-of-type {\n",
       "        vertical-align: middle;\n",
       "    }\n",
       "\n",
       "    .dataframe tbody tr th {\n",
       "        vertical-align: top;\n",
       "    }\n",
       "\n",
       "    .dataframe thead th {\n",
       "        text-align: right;\n",
       "    }\n",
       "</style>\n",
       "<table border=\"1\" class=\"dataframe\">\n",
       "  <thead>\n",
       "    <tr style=\"text-align: right;\">\n",
       "      <th></th>\n",
       "      <th>flow_end_start</th>\n",
       "      <th>timedelta_month</th>\n",
       "      <th>mean_charges</th>\n",
       "    </tr>\n",
       "  </thead>\n",
       "  <tbody>\n",
       "    <tr>\n",
       "      <th>0</th>\n",
       "      <td>1-&gt;2</td>\n",
       "      <td>-3</td>\n",
       "      <td>4.414583</td>\n",
       "    </tr>\n",
       "    <tr>\n",
       "      <th>1</th>\n",
       "      <td>1-&gt;2</td>\n",
       "      <td>1</td>\n",
       "      <td>5.131500</td>\n",
       "    </tr>\n",
       "    <tr>\n",
       "      <th>2</th>\n",
       "      <td>1-&gt;3</td>\n",
       "      <td>-3</td>\n",
       "      <td>9.503374</td>\n",
       "    </tr>\n",
       "    <tr>\n",
       "      <th>3</th>\n",
       "      <td>1-&gt;3</td>\n",
       "      <td>1</td>\n",
       "      <td>10.683430</td>\n",
       "    </tr>\n",
       "    <tr>\n",
       "      <th>4</th>\n",
       "      <td>1-&gt;4</td>\n",
       "      <td>-3</td>\n",
       "      <td>4.685629</td>\n",
       "    </tr>\n",
       "  </tbody>\n",
       "</table>\n",
       "</div>"
      ],
      "text/plain": [
       "  flow_end_start  timedelta_month  mean_charges\n",
       "0           1->2               -3      4.414583\n",
       "1           1->2                1      5.131500\n",
       "2           1->3               -3      9.503374\n",
       "3           1->3                1     10.683430\n",
       "4           1->4               -3      4.685629"
      ]
     },
     "execution_count": 42,
     "metadata": {},
     "output_type": "execute_result"
    }
   ],
   "source": [
    "mean_flow_charges = rolling_mean_flow.query(\"timedelta_month in [1, -3]\")\\\n",
    "    .groupby(['flow_end_start', 'timedelta_month'], as_index=False).agg({'CHARGES' : 'mean'})\\\n",
    "    .sort_values(['flow_end_start', 'timedelta_month']).rename(columns={'CHARGES' : 'mean_charges'})\n",
    "mean_flow_charges.head()"
   ]
  },
  {
   "cell_type": "markdown",
   "id": "3279f040",
   "metadata": {},
   "source": [
    "Визуализируем полученный результат"
   ]
  },
  {
   "cell_type": "code",
   "execution_count": 43,
   "id": "db78b04d",
   "metadata": {},
   "outputs": [
    {
     "data": {
      "image/png": "[encoded data removed]",
      "text/plain": [
       "<Figure size 1440x504 with 1 Axes>"
      ]
     },
     "metadata": {},
     "output_type": "display_data"
    }
   ],
   "source": [
    "sns.set(rc={\"figure.figsize\":(20, 7)})\n",
    "sns.set_style(\"whitegrid\")\n",
    "viz_mean_flow_charges = sns.barplot(x='flow_end_start', y='mean_charges', hue='timedelta_month', data=mean_flow_charges)\n",
    "viz_mean_flow_charges.set_xlabel('Tariff plan changes')\n",
    "viz_mean_flow_charges.set_ylabel('Mean charges')\n",
    "viz_mean_flow_charges.set_title('Charges on directions before and after 3 month of change tariff plan')\n",
    "plt.legend(loc='upper left')\n",
    "sns.despine()"
   ]
  },
  {
   "cell_type": "markdown",
   "id": "0352184c",
   "metadata": {},
   "source": [
    "На графике мы можем видеть, что среднемесячный счет абонентов в разрезе потоков смены тарифных планов за период 3 месяца после месяца смены тарифного плана преимущественно снижался в сравнении с периодом 3 месяца до месяца смены тарифного плана. Рост наблюдался только для потоков 3->2, 4->3, 4->4 и 5->3.\n",
    "<br>И это при том, что большие перетоки количества пользователей наблюдались по 1->5 и 3->5, по которым мы наблюдаем падение среднего счета."
   ]
  },
  {
   "cell_type": "markdown",
   "id": "d3a562d1",
   "metadata": {},
   "source": [
    "**Насколько реже или чаще стали попадать в блокировки абоненты после миграции в целом и для каждого направления миграции в отдельности.**\n",
    "<br>Для сравнения использовать те же периоды: 3 месяца до месяца смены плана и 3 месяца после месяца смены."
   ]
  },
  {
   "cell_type": "markdown",
   "id": "a19ae49e",
   "metadata": {},
   "source": [
    "Объединим датафрейм из первого пункта и датафрейм suspended с данными о блокировках."
   ]
  },
  {
   "cell_type": "code",
   "execution_count": 44,
   "id": "01bd26c3",
   "metadata": {},
   "outputs": [
    {
     "data": {
      "text/html": [
       "<div>\n",
       "<style scoped>\n",
       "    .dataframe tbody tr th:only-of-type {\n",
       "        vertical-align: middle;\n",
       "    }\n",
       "\n",
       "    .dataframe tbody tr th {\n",
       "        vertical-align: top;\n",
       "    }\n",
       "\n",
       "    .dataframe thead th {\n",
       "        text-align: right;\n",
       "    }\n",
       "</style>\n",
       "<table border=\"1\" class=\"dataframe\">\n",
       "  <thead>\n",
       "    <tr style=\"text-align: right;\">\n",
       "      <th></th>\n",
       "      <th>SUBSCRIBER_ID</th>\n",
       "      <th>TARIFF_PLAN_ID_x</th>\n",
       "      <th>START_DTTM_x</th>\n",
       "      <th>END_DTTM_x</th>\n",
       "      <th>start_month</th>\n",
       "      <th>TARIFF_PLAN_ID_y</th>\n",
       "      <th>START_DTTM_y</th>\n",
       "      <th>END_DTTM_y</th>\n",
       "      <th>START_DT</th>\n",
       "      <th>END_DT</th>\n",
       "      <th>STATUS</th>\n",
       "    </tr>\n",
       "  </thead>\n",
       "  <tbody>\n",
       "    <tr>\n",
       "      <th>0</th>\n",
       "      <td>1</td>\n",
       "      <td>3</td>\n",
       "      <td>2017-03-11</td>\n",
       "      <td>2017-07-01</td>\n",
       "      <td>2017-03-01</td>\n",
       "      <td>2</td>\n",
       "      <td>2013-11-22</td>\n",
       "      <td>2017-03-11</td>\n",
       "      <td>NaT</td>\n",
       "      <td>NaT</td>\n",
       "      <td>NaN</td>\n",
       "    </tr>\n",
       "    <tr>\n",
       "      <th>1</th>\n",
       "      <td>2</td>\n",
       "      <td>5</td>\n",
       "      <td>2017-06-29</td>\n",
       "      <td>2017-07-01</td>\n",
       "      <td>2017-06-01</td>\n",
       "      <td>1</td>\n",
       "      <td>2016-02-05</td>\n",
       "      <td>2017-06-29</td>\n",
       "      <td>NaT</td>\n",
       "      <td>NaT</td>\n",
       "      <td>NaN</td>\n",
       "    </tr>\n",
       "    <tr>\n",
       "      <th>2</th>\n",
       "      <td>3</td>\n",
       "      <td>5</td>\n",
       "      <td>2017-04-14</td>\n",
       "      <td>2017-07-01</td>\n",
       "      <td>2017-04-01</td>\n",
       "      <td>1</td>\n",
       "      <td>2015-05-06</td>\n",
       "      <td>2017-04-14</td>\n",
       "      <td>NaT</td>\n",
       "      <td>NaT</td>\n",
       "      <td>NaN</td>\n",
       "    </tr>\n",
       "    <tr>\n",
       "      <th>3</th>\n",
       "      <td>4</td>\n",
       "      <td>5</td>\n",
       "      <td>2017-01-09</td>\n",
       "      <td>2017-07-01</td>\n",
       "      <td>2017-01-01</td>\n",
       "      <td>3</td>\n",
       "      <td>2016-01-27</td>\n",
       "      <td>2017-01-09</td>\n",
       "      <td>NaT</td>\n",
       "      <td>NaT</td>\n",
       "      <td>NaN</td>\n",
       "    </tr>\n",
       "    <tr>\n",
       "      <th>4</th>\n",
       "      <td>5</td>\n",
       "      <td>5</td>\n",
       "      <td>2017-05-08</td>\n",
       "      <td>2017-07-01</td>\n",
       "      <td>2017-05-01</td>\n",
       "      <td>1</td>\n",
       "      <td>2016-02-06</td>\n",
       "      <td>2017-05-08</td>\n",
       "      <td>2017-07-31</td>\n",
       "      <td>2017-08-14</td>\n",
       "      <td>Suspended</td>\n",
       "    </tr>\n",
       "  </tbody>\n",
       "</table>\n",
       "</div>"
      ],
      "text/plain": [
       "   SUBSCRIBER_ID  TARIFF_PLAN_ID_x START_DTTM_x END_DTTM_x start_month  \\\n",
       "0              1                 3   2017-03-11 2017-07-01  2017-03-01   \n",
       "1              2                 5   2017-06-29 2017-07-01  2017-06-01   \n",
       "2              3                 5   2017-04-14 2017-07-01  2017-04-01   \n",
       "3              4                 5   2017-01-09 2017-07-01  2017-01-01   \n",
       "4              5                 5   2017-05-08 2017-07-01  2017-05-01   \n",
       "\n",
       "   TARIFF_PLAN_ID_y START_DTTM_y END_DTTM_y   START_DT     END_DT     STATUS  \n",
       "0                 2   2013-11-22 2017-03-11        NaT        NaT        NaN  \n",
       "1                 1   2016-02-05 2017-06-29        NaT        NaT        NaN  \n",
       "2                 1   2015-05-06 2017-04-14        NaT        NaT        NaN  \n",
       "3                 3   2016-01-27 2017-01-09        NaT        NaT        NaN  \n",
       "4                 1   2016-02-06 2017-05-08 2017-07-31 2017-08-14  Suspended  "
      ]
     },
     "execution_count": 44,
     "metadata": {},
     "output_type": "execute_result"
    }
   ],
   "source": [
    "tariff_plans_suspended = full_plans.merge(suspended, how='left', on='SUBSCRIBER_ID')\\\n",
    "    .dropna(subset=['TARIFF_PLAN_ID_y'])\n",
    "tariff_plans_suspended.head()"
   ]
  },
  {
   "cell_type": "code",
   "execution_count": 45,
   "id": "cb612bbd",
   "metadata": {},
   "outputs": [],
   "source": [
    "# конвертируем данные в int64, где необходимо \n",
    "tariff_plans_suspended['TARIFF_PLAN_ID_y'] = tariff_plans_suspended.TARIFF_PLAN_ID_y.astype('int64')\n",
    "tariff_plans_suspended['TARIFF_PLAN_ID_x'] = tariff_plans_suspended.TARIFF_PLAN_ID_x.astype('int64')"
   ]
  },
  {
   "cell_type": "code",
   "execution_count": 46,
   "id": "8daaf16c",
   "metadata": {},
   "outputs": [],
   "source": [
    "# создадим столбец с названием потока смены тарифного плана\n",
    "tariff_plans_suspended['flow_end_start'] = tariff_plans_suspended.TARIFF_PLAN_ID_y.astype(str) + '->' + tariff_plans_suspended.TARIFF_PLAN_ID_x.astype(str)"
   ]
  },
  {
   "cell_type": "code",
   "execution_count": 47,
   "id": "e385a128",
   "metadata": {},
   "outputs": [
    {
     "data": {
      "text/html": [
       "<div>\n",
       "<style scoped>\n",
       "    .dataframe tbody tr th:only-of-type {\n",
       "        vertical-align: middle;\n",
       "    }\n",
       "\n",
       "    .dataframe tbody tr th {\n",
       "        vertical-align: top;\n",
       "    }\n",
       "\n",
       "    .dataframe thead th {\n",
       "        text-align: right;\n",
       "    }\n",
       "</style>\n",
       "<table border=\"1\" class=\"dataframe\">\n",
       "  <thead>\n",
       "    <tr style=\"text-align: right;\">\n",
       "      <th></th>\n",
       "      <th>SUBSCRIBER_ID</th>\n",
       "      <th>start_month</th>\n",
       "      <th>START_DT</th>\n",
       "      <th>END_DT</th>\n",
       "      <th>STATUS</th>\n",
       "      <th>flow_end_start</th>\n",
       "    </tr>\n",
       "  </thead>\n",
       "  <tbody>\n",
       "    <tr>\n",
       "      <th>0</th>\n",
       "      <td>1</td>\n",
       "      <td>2017-03-01</td>\n",
       "      <td>NaT</td>\n",
       "      <td>NaT</td>\n",
       "      <td>NaN</td>\n",
       "      <td>2-&gt;3</td>\n",
       "    </tr>\n",
       "    <tr>\n",
       "      <th>1</th>\n",
       "      <td>2</td>\n",
       "      <td>2017-06-01</td>\n",
       "      <td>NaT</td>\n",
       "      <td>NaT</td>\n",
       "      <td>NaN</td>\n",
       "      <td>1-&gt;5</td>\n",
       "    </tr>\n",
       "    <tr>\n",
       "      <th>2</th>\n",
       "      <td>3</td>\n",
       "      <td>2017-04-01</td>\n",
       "      <td>NaT</td>\n",
       "      <td>NaT</td>\n",
       "      <td>NaN</td>\n",
       "      <td>1-&gt;5</td>\n",
       "    </tr>\n",
       "    <tr>\n",
       "      <th>3</th>\n",
       "      <td>4</td>\n",
       "      <td>2017-01-01</td>\n",
       "      <td>NaT</td>\n",
       "      <td>NaT</td>\n",
       "      <td>NaN</td>\n",
       "      <td>3-&gt;5</td>\n",
       "    </tr>\n",
       "    <tr>\n",
       "      <th>4</th>\n",
       "      <td>5</td>\n",
       "      <td>2017-05-01</td>\n",
       "      <td>2017-07-31</td>\n",
       "      <td>2017-08-14</td>\n",
       "      <td>Suspended</td>\n",
       "      <td>1-&gt;5</td>\n",
       "    </tr>\n",
       "  </tbody>\n",
       "</table>\n",
       "</div>"
      ],
      "text/plain": [
       "   SUBSCRIBER_ID start_month   START_DT     END_DT     STATUS flow_end_start\n",
       "0              1  2017-03-01        NaT        NaT        NaN           2->3\n",
       "1              2  2017-06-01        NaT        NaT        NaN           1->5\n",
       "2              3  2017-04-01        NaT        NaT        NaN           1->5\n",
       "3              4  2017-01-01        NaT        NaT        NaN           3->5\n",
       "4              5  2017-05-01 2017-07-31 2017-08-14  Suspended           1->5"
      ]
     },
     "execution_count": 47,
     "metadata": {},
     "output_type": "execute_result"
    }
   ],
   "source": [
    "# удалим ненужные колонки\n",
    "tariff_plans_suspended = tariff_plans_suspended.drop(columns=['TARIFF_PLAN_ID_x', 'TARIFF_PLAN_ID_y', 'START_DTTM_x', 'END_DTTM_x', \n",
    "                                                         'START_DTTM_y', 'END_DTTM_y'])\n",
    "tariff_plans_suspended.head()"
   ]
  },
  {
   "cell_type": "code",
   "execution_count": 48,
   "id": "23b9baf4",
   "metadata": {},
   "outputs": [
    {
     "data": {
      "text/plain": [
       "SUBSCRIBER_ID        0\n",
       "start_month          0\n",
       "START_DT          5041\n",
       "END_DT            5041\n",
       "STATUS            5041\n",
       "flow_end_start       0\n",
       "dtype: int64"
      ]
     },
     "execution_count": 48,
     "metadata": {},
     "output_type": "execute_result"
    }
   ],
   "source": [
    "# проверим данные на пропущенные значения\n",
    "tariff_plans_suspended.isna().sum()"
   ]
  },
  {
   "cell_type": "markdown",
   "id": "afd51707",
   "metadata": {},
   "source": [
    "Приведем данные по дате блокировки пользователя к началу месяца."
   ]
  },
  {
   "cell_type": "code",
   "execution_count": 49,
   "id": "018045c9",
   "metadata": {},
   "outputs": [],
   "source": [
    "tariff_plans_suspended['start_month_suspended'] = pd.to_datetime(tariff_plans_suspended.START_DT).dt.to_period('M').dt.to_timestamp()"
   ]
  },
  {
   "cell_type": "markdown",
   "id": "596b4b13",
   "metadata": {},
   "source": [
    "Заполним пустые значения по столбу STATUS на значение 'Not Suspended'"
   ]
  },
  {
   "cell_type": "code",
   "execution_count": 50,
   "id": "a269f8a7",
   "metadata": {},
   "outputs": [],
   "source": [
    "tariff_plans_suspended['STATUS'] = tariff_plans_suspended.STATUS.fillna('Not Suspended')"
   ]
  },
  {
   "cell_type": "code",
   "execution_count": 51,
   "id": "ed4723c5",
   "metadata": {},
   "outputs": [
    {
     "data": {
      "text/html": [
       "<div>\n",
       "<style scoped>\n",
       "    .dataframe tbody tr th:only-of-type {\n",
       "        vertical-align: middle;\n",
       "    }\n",
       "\n",
       "    .dataframe tbody tr th {\n",
       "        vertical-align: top;\n",
       "    }\n",
       "\n",
       "    .dataframe thead th {\n",
       "        text-align: right;\n",
       "    }\n",
       "</style>\n",
       "<table border=\"1\" class=\"dataframe\">\n",
       "  <thead>\n",
       "    <tr style=\"text-align: right;\">\n",
       "      <th></th>\n",
       "      <th>SUBSCRIBER_ID</th>\n",
       "      <th>start_month</th>\n",
       "      <th>START_DT</th>\n",
       "      <th>END_DT</th>\n",
       "      <th>STATUS</th>\n",
       "      <th>flow_end_start</th>\n",
       "      <th>start_month_suspended</th>\n",
       "    </tr>\n",
       "  </thead>\n",
       "  <tbody>\n",
       "    <tr>\n",
       "      <th>0</th>\n",
       "      <td>1</td>\n",
       "      <td>2017-03-01</td>\n",
       "      <td>NaT</td>\n",
       "      <td>NaT</td>\n",
       "      <td>Not Suspended</td>\n",
       "      <td>2-&gt;3</td>\n",
       "      <td>NaT</td>\n",
       "    </tr>\n",
       "    <tr>\n",
       "      <th>1</th>\n",
       "      <td>2</td>\n",
       "      <td>2017-06-01</td>\n",
       "      <td>NaT</td>\n",
       "      <td>NaT</td>\n",
       "      <td>Not Suspended</td>\n",
       "      <td>1-&gt;5</td>\n",
       "      <td>NaT</td>\n",
       "    </tr>\n",
       "    <tr>\n",
       "      <th>2</th>\n",
       "      <td>3</td>\n",
       "      <td>2017-04-01</td>\n",
       "      <td>NaT</td>\n",
       "      <td>NaT</td>\n",
       "      <td>Not Suspended</td>\n",
       "      <td>1-&gt;5</td>\n",
       "      <td>NaT</td>\n",
       "    </tr>\n",
       "    <tr>\n",
       "      <th>3</th>\n",
       "      <td>4</td>\n",
       "      <td>2017-01-01</td>\n",
       "      <td>NaT</td>\n",
       "      <td>NaT</td>\n",
       "      <td>Not Suspended</td>\n",
       "      <td>3-&gt;5</td>\n",
       "      <td>NaT</td>\n",
       "    </tr>\n",
       "    <tr>\n",
       "      <th>4</th>\n",
       "      <td>5</td>\n",
       "      <td>2017-05-01</td>\n",
       "      <td>2017-07-31</td>\n",
       "      <td>2017-08-14</td>\n",
       "      <td>Suspended</td>\n",
       "      <td>1-&gt;5</td>\n",
       "      <td>2017-07-01</td>\n",
       "    </tr>\n",
       "  </tbody>\n",
       "</table>\n",
       "</div>"
      ],
      "text/plain": [
       "   SUBSCRIBER_ID start_month   START_DT     END_DT         STATUS  \\\n",
       "0              1  2017-03-01        NaT        NaT  Not Suspended   \n",
       "1              2  2017-06-01        NaT        NaT  Not Suspended   \n",
       "2              3  2017-04-01        NaT        NaT  Not Suspended   \n",
       "3              4  2017-01-01        NaT        NaT  Not Suspended   \n",
       "4              5  2017-05-01 2017-07-31 2017-08-14      Suspended   \n",
       "\n",
       "  flow_end_start start_month_suspended  \n",
       "0           2->3                   NaT  \n",
       "1           1->5                   NaT  \n",
       "2           1->5                   NaT  \n",
       "3           3->5                   NaT  \n",
       "4           1->5            2017-07-01  "
      ]
     },
     "execution_count": 51,
     "metadata": {},
     "output_type": "execute_result"
    }
   ],
   "source": [
    "tariff_plans_suspended.head()"
   ]
  },
  {
   "cell_type": "code",
   "execution_count": 52,
   "id": "e170a9c2",
   "metadata": {},
   "outputs": [
    {
     "data": {
      "text/plain": [
       "SUBSCRIBER_ID                     int64\n",
       "start_month              datetime64[ns]\n",
       "START_DT                 datetime64[ns]\n",
       "END_DT                   datetime64[ns]\n",
       "STATUS                           object\n",
       "flow_end_start                   object\n",
       "start_month_suspended    datetime64[ns]\n",
       "dtype: object"
      ]
     },
     "execution_count": 52,
     "metadata": {},
     "output_type": "execute_result"
    }
   ],
   "source": [
    "# проверим типы данных\n",
    "tariff_plans_suspended.dtypes"
   ]
  },
  {
   "cell_type": "markdown",
   "id": "3651385a",
   "metadata": {},
   "source": [
    "Аггрегируем датафрейм по месяцу смены ТП и месяцу блокировки"
   ]
  },
  {
   "cell_type": "code",
   "execution_count": 53,
   "id": "0fa90e95",
   "metadata": {},
   "outputs": [
    {
     "data": {
      "text/html": [
       "<div>\n",
       "<style scoped>\n",
       "    .dataframe tbody tr th:only-of-type {\n",
       "        vertical-align: middle;\n",
       "    }\n",
       "\n",
       "    .dataframe tbody tr th {\n",
       "        vertical-align: top;\n",
       "    }\n",
       "\n",
       "    .dataframe thead th {\n",
       "        text-align: right;\n",
       "    }\n",
       "</style>\n",
       "<table border=\"1\" class=\"dataframe\">\n",
       "  <thead>\n",
       "    <tr style=\"text-align: right;\">\n",
       "      <th></th>\n",
       "      <th>start_month</th>\n",
       "      <th>start_month_suspended</th>\n",
       "      <th>mean_counts</th>\n",
       "    </tr>\n",
       "  </thead>\n",
       "  <tbody>\n",
       "    <tr>\n",
       "      <th>0</th>\n",
       "      <td>2017-01-01</td>\n",
       "      <td>2016-06-01</td>\n",
       "      <td>NaN</td>\n",
       "    </tr>\n",
       "    <tr>\n",
       "      <th>1</th>\n",
       "      <td>2017-01-01</td>\n",
       "      <td>2016-07-01</td>\n",
       "      <td>NaN</td>\n",
       "    </tr>\n",
       "    <tr>\n",
       "      <th>2</th>\n",
       "      <td>2017-01-01</td>\n",
       "      <td>2016-08-01</td>\n",
       "      <td>34.666667</td>\n",
       "    </tr>\n",
       "    <tr>\n",
       "      <th>3</th>\n",
       "      <td>2017-01-01</td>\n",
       "      <td>2016-09-01</td>\n",
       "      <td>32.000000</td>\n",
       "    </tr>\n",
       "    <tr>\n",
       "      <th>4</th>\n",
       "      <td>2017-01-01</td>\n",
       "      <td>2016-10-01</td>\n",
       "      <td>36.666667</td>\n",
       "    </tr>\n",
       "  </tbody>\n",
       "</table>\n",
       "</div>"
      ],
      "text/plain": [
       "  start_month start_month_suspended  mean_counts\n",
       "0  2017-01-01            2016-06-01          NaN\n",
       "1  2017-01-01            2016-07-01          NaN\n",
       "2  2017-01-01            2016-08-01    34.666667\n",
       "3  2017-01-01            2016-09-01    32.000000\n",
       "4  2017-01-01            2016-10-01    36.666667"
      ]
     },
     "execution_count": 53,
     "metadata": {},
     "output_type": "execute_result"
    }
   ],
   "source": [
    "rolling_tariff_plans_suspended = tariff_plans_suspended\\\n",
    "        .groupby(['start_month', 'start_month_suspended'])\\\n",
    "        .agg({'SUBSCRIBER_ID' : 'nunique'}).sort_values(['start_month', 'start_month_suspended'])\\\n",
    "        .rename(columns={'SUBSCRIBER_ID' : 'mean_counts'})\\\n",
    "        .rolling(3).mean().reset_index()\n",
    "rolling_tariff_plans_suspended.head()"
   ]
  },
  {
   "cell_type": "markdown",
   "id": "e4824fea",
   "metadata": {},
   "source": [
    "Создадим столбец с разницей в месяцах между началом смены тарифного плана и месяцем блокировки"
   ]
  },
  {
   "cell_type": "code",
   "execution_count": 54,
   "id": "bd53b991",
   "metadata": {},
   "outputs": [],
   "source": [
    "rolling_tariff_plans_suspended['timedelta_month'] = ((rolling_tariff_plans_suspended.start_month - rolling_tariff_plans_suspended.start_month_suspended)/np.timedelta64(1, 'M'))\n",
    "rolling_tariff_plans_suspended['timedelta_month'] = rolling_tariff_plans_suspended['timedelta_month'].astype(int)"
   ]
  },
  {
   "cell_type": "markdown",
   "id": "dea8ad96",
   "metadata": {},
   "source": [
    "Аггрегируем датафрейм в разрезе месяца смены ТП и периода смены тарифного плана.\n",
    "<br> **-3** - 3 месяца после смены тарифного плана\n",
    "<br> **1** - 3 месяца до смены тарифного плана"
   ]
  },
  {
   "cell_type": "code",
   "execution_count": 55,
   "id": "d21bcde0",
   "metadata": {},
   "outputs": [
    {
     "data": {
      "text/html": [
       "<div>\n",
       "<style scoped>\n",
       "    .dataframe tbody tr th:only-of-type {\n",
       "        vertical-align: middle;\n",
       "    }\n",
       "\n",
       "    .dataframe tbody tr th {\n",
       "        vertical-align: top;\n",
       "    }\n",
       "\n",
       "    .dataframe thead th {\n",
       "        text-align: right;\n",
       "    }\n",
       "</style>\n",
       "<table border=\"1\" class=\"dataframe\">\n",
       "  <thead>\n",
       "    <tr style=\"text-align: right;\">\n",
       "      <th></th>\n",
       "      <th>start_month</th>\n",
       "      <th>timedelta_month</th>\n",
       "      <th>mean_counts</th>\n",
       "    </tr>\n",
       "  </thead>\n",
       "  <tbody>\n",
       "    <tr>\n",
       "      <th>0</th>\n",
       "      <td>2017-01-01</td>\n",
       "      <td>-3</td>\n",
       "      <td>38.000000</td>\n",
       "    </tr>\n",
       "    <tr>\n",
       "      <th>1</th>\n",
       "      <td>2017-01-01</td>\n",
       "      <td>1</td>\n",
       "      <td>43.333333</td>\n",
       "    </tr>\n",
       "    <tr>\n",
       "      <th>2</th>\n",
       "      <td>2017-02-01</td>\n",
       "      <td>-3</td>\n",
       "      <td>35.333333</td>\n",
       "    </tr>\n",
       "    <tr>\n",
       "      <th>3</th>\n",
       "      <td>2017-02-01</td>\n",
       "      <td>1</td>\n",
       "      <td>50.333333</td>\n",
       "    </tr>\n",
       "    <tr>\n",
       "      <th>4</th>\n",
       "      <td>2017-03-01</td>\n",
       "      <td>-3</td>\n",
       "      <td>39.000000</td>\n",
       "    </tr>\n",
       "  </tbody>\n",
       "</table>\n",
       "</div>"
      ],
      "text/plain": [
       "  start_month  timedelta_month  mean_counts\n",
       "0  2017-01-01               -3    38.000000\n",
       "1  2017-01-01                1    43.333333\n",
       "2  2017-02-01               -3    35.333333\n",
       "3  2017-02-01                1    50.333333\n",
       "4  2017-03-01               -3    39.000000"
      ]
     },
     "execution_count": 55,
     "metadata": {},
     "output_type": "execute_result"
    }
   ],
   "source": [
    "mean_suspended = rolling_tariff_plans_suspended.query(\"timedelta_month in [1, -3]\")\\\n",
    "    .groupby(['start_month', 'timedelta_month'], as_index=False).agg({'mean_counts' : 'mean'})\n",
    "mean_suspended.head()"
   ]
  },
  {
   "cell_type": "markdown",
   "id": "55410ef6",
   "metadata": {},
   "source": [
    "Визуализируем полученные данные"
   ]
  },
  {
   "cell_type": "code",
   "execution_count": 56,
   "id": "405503bc",
   "metadata": {},
   "outputs": [
    {
     "data": {
      "image/png": "[encoded data removed]",
      "text/plain": [
       "<Figure size 1440x504 with 1 Axes>"
      ]
     },
     "metadata": {},
     "output_type": "display_data"
    }
   ],
   "source": [
    "viz_mean_suspended = sns.lineplot(x='start_month', y='mean_counts', hue='timedelta_month', data=mean_suspended)\n",
    "viz_mean_suspended.set_xlabel('Month of change tariff plan')\n",
    "viz_mean_suspended.set_ylabel('Mean count of suspended users')\n",
    "viz_mean_suspended.set_title('Total dynamics count of suspended users before and after 3 month of change tariff plan')\n",
    "plt.legend(loc='upper left')\n",
    "sns.despine()"
   ]
  },
  {
   "cell_type": "markdown",
   "id": "514f9cbf",
   "metadata": {},
   "source": [
    "Анализируя динамику блокировок, можно отметить, что количество заблокированных абонентов за период 3 месяца после месяца смены тарифного плана значительно снизился в сравнении с периодом 3 месяца до месяца смены тарифного плана."
   ]
  },
  {
   "cell_type": "markdown",
   "id": "1a2baa33",
   "metadata": {},
   "source": [
    "**Насколько реже или чаще стали попадать в блокировки абоненты после миграции для каждого направления миграции.**"
   ]
  },
  {
   "cell_type": "markdown",
   "id": "e5db85c2",
   "metadata": {},
   "source": [
    "Сгруппируем данные по направлению потоков смены тарифных планов по месяцам."
   ]
  },
  {
   "cell_type": "code",
   "execution_count": 57,
   "id": "c6c45b41",
   "metadata": {},
   "outputs": [
    {
     "data": {
      "text/html": [
       "<div>\n",
       "<style scoped>\n",
       "    .dataframe tbody tr th:only-of-type {\n",
       "        vertical-align: middle;\n",
       "    }\n",
       "\n",
       "    .dataframe tbody tr th {\n",
       "        vertical-align: top;\n",
       "    }\n",
       "\n",
       "    .dataframe thead th {\n",
       "        text-align: right;\n",
       "    }\n",
       "</style>\n",
       "<table border=\"1\" class=\"dataframe\">\n",
       "  <thead>\n",
       "    <tr style=\"text-align: right;\">\n",
       "      <th></th>\n",
       "      <th>flow_end_start</th>\n",
       "      <th>start_month</th>\n",
       "      <th>start_month_suspended</th>\n",
       "      <th>mean_count</th>\n",
       "    </tr>\n",
       "  </thead>\n",
       "  <tbody>\n",
       "    <tr>\n",
       "      <th>0</th>\n",
       "      <td>1-&gt;2</td>\n",
       "      <td>2017-03-01</td>\n",
       "      <td>2017-03-01</td>\n",
       "      <td>NaN</td>\n",
       "    </tr>\n",
       "    <tr>\n",
       "      <th>1</th>\n",
       "      <td>1-&gt;2</td>\n",
       "      <td>2017-04-01</td>\n",
       "      <td>2017-04-01</td>\n",
       "      <td>NaN</td>\n",
       "    </tr>\n",
       "    <tr>\n",
       "      <th>2</th>\n",
       "      <td>1-&gt;3</td>\n",
       "      <td>2017-01-01</td>\n",
       "      <td>2016-09-01</td>\n",
       "      <td>1.0</td>\n",
       "    </tr>\n",
       "    <tr>\n",
       "      <th>3</th>\n",
       "      <td>1-&gt;3</td>\n",
       "      <td>2017-02-01</td>\n",
       "      <td>2016-08-01</td>\n",
       "      <td>1.0</td>\n",
       "    </tr>\n",
       "    <tr>\n",
       "      <th>4</th>\n",
       "      <td>1-&gt;3</td>\n",
       "      <td>2017-02-01</td>\n",
       "      <td>2016-11-01</td>\n",
       "      <td>1.0</td>\n",
       "    </tr>\n",
       "  </tbody>\n",
       "</table>\n",
       "</div>"
      ],
      "text/plain": [
       "  flow_end_start start_month start_month_suspended  mean_count\n",
       "0           1->2  2017-03-01            2017-03-01         NaN\n",
       "1           1->2  2017-04-01            2017-04-01         NaN\n",
       "2           1->3  2017-01-01            2016-09-01         1.0\n",
       "3           1->3  2017-02-01            2016-08-01         1.0\n",
       "4           1->3  2017-02-01            2016-11-01         1.0"
      ]
     },
     "execution_count": 57,
     "metadata": {},
     "output_type": "execute_result"
    }
   ],
   "source": [
    "suspended_flow = tariff_plans_suspended.groupby(['flow_end_start', 'start_month', 'start_month_suspended'])\\\n",
    "    .agg({'SUBSCRIBER_ID' : 'nunique'})\\\n",
    "    .sort_values(['flow_end_start', 'start_month', 'start_month_suspended']).rolling(3).mean().reset_index()\\\n",
    "    .rename(columns={'SUBSCRIBER_ID' : 'mean_count'})\n",
    "suspended_flow.head()"
   ]
  },
  {
   "cell_type": "code",
   "execution_count": 58,
   "id": "d1847488",
   "metadata": {},
   "outputs": [],
   "source": [
    "# создадим столбец с разницей в месяцах между началом смены тарифного плана и месяцем платежа\n",
    "suspended_flow['timedelta_month'] = ((suspended_flow.start_month - suspended_flow.start_month_suspended)/np.timedelta64(1, 'M'))\n",
    "suspended_flow['timedelta_month'] = suspended_flow['timedelta_month'].astype(int)"
   ]
  },
  {
   "cell_type": "markdown",
   "id": "75c8d97e",
   "metadata": {},
   "source": [
    "Аггрегируем датафрейм в разрезе потока смена ТП и периода блокировки.\n",
    "<br> **-3** - 3 месяца после смены тарифного плана\n",
    "<br> **1** - 3 месяца до смены тарифного плана"
   ]
  },
  {
   "cell_type": "code",
   "execution_count": 59,
   "id": "db168061",
   "metadata": {},
   "outputs": [
    {
     "data": {
      "text/html": [
       "<div>\n",
       "<style scoped>\n",
       "    .dataframe tbody tr th:only-of-type {\n",
       "        vertical-align: middle;\n",
       "    }\n",
       "\n",
       "    .dataframe tbody tr th {\n",
       "        vertical-align: top;\n",
       "    }\n",
       "\n",
       "    .dataframe thead th {\n",
       "        text-align: right;\n",
       "    }\n",
       "</style>\n",
       "<table border=\"1\" class=\"dataframe\">\n",
       "  <thead>\n",
       "    <tr style=\"text-align: right;\">\n",
       "      <th></th>\n",
       "      <th>flow_end_start</th>\n",
       "      <th>timedelta_month</th>\n",
       "      <th>mean_count</th>\n",
       "    </tr>\n",
       "  </thead>\n",
       "  <tbody>\n",
       "    <tr>\n",
       "      <th>0</th>\n",
       "      <td>1-&gt;3</td>\n",
       "      <td>1</td>\n",
       "      <td>1.000000</td>\n",
       "    </tr>\n",
       "    <tr>\n",
       "      <th>1</th>\n",
       "      <td>1-&gt;4</td>\n",
       "      <td>-3</td>\n",
       "      <td>4.666667</td>\n",
       "    </tr>\n",
       "    <tr>\n",
       "      <th>2</th>\n",
       "      <td>1-&gt;4</td>\n",
       "      <td>1</td>\n",
       "      <td>4.933333</td>\n",
       "    </tr>\n",
       "    <tr>\n",
       "      <th>3</th>\n",
       "      <td>1-&gt;5</td>\n",
       "      <td>-3</td>\n",
       "      <td>6.000000</td>\n",
       "    </tr>\n",
       "    <tr>\n",
       "      <th>4</th>\n",
       "      <td>1-&gt;5</td>\n",
       "      <td>1</td>\n",
       "      <td>7.111111</td>\n",
       "    </tr>\n",
       "  </tbody>\n",
       "</table>\n",
       "</div>"
      ],
      "text/plain": [
       "  flow_end_start  timedelta_month  mean_count\n",
       "0           1->3                1    1.000000\n",
       "1           1->4               -3    4.666667\n",
       "2           1->4                1    4.933333\n",
       "3           1->5               -3    6.000000\n",
       "4           1->5                1    7.111111"
      ]
     },
     "execution_count": 59,
     "metadata": {},
     "output_type": "execute_result"
    }
   ],
   "source": [
    "mean_suspended_flow = suspended_flow.query(\"timedelta_month in [1, -3]\")\\\n",
    "    .groupby(['flow_end_start', 'timedelta_month'], as_index=False).agg({'mean_count' : 'mean'})\n",
    "mean_suspended_flow.head()"
   ]
  },
  {
   "cell_type": "code",
   "execution_count": 60,
   "id": "1f6ab577",
   "metadata": {},
   "outputs": [
    {
     "data": {
      "image/png": "[encoded data removed]",
      "text/plain": [
       "<Figure size 1440x504 with 1 Axes>"
      ]
     },
     "metadata": {},
     "output_type": "display_data"
    }
   ],
   "source": [
    "sns.set(rc={\"figure.figsize\":(20, 7)})\n",
    "sns.set_style(\"whitegrid\")\n",
    "viz_mean_suspended_flow = sns.barplot(x='flow_end_start', y='mean_count', hue='timedelta_month', data=mean_suspended_flow)\n",
    "viz_mean_suspended_flow.set_xlabel('Tariff plan changes')\n",
    "viz_mean_suspended_flow.set_ylabel('Mean count of users')\n",
    "viz_mean_suspended_flow.set_title('Dynamics counts of suspended users on directions before and after 3 month of change tariff plan')\n",
    "plt.legend(loc='upper left')\n",
    "sns.despine()"
   ]
  },
  {
   "cell_type": "markdown",
   "id": "ec3abc76",
   "metadata": {},
   "source": [
    "На графике мы можем видеть, что среднее количество заблокированных абонентов за период 3 месяца после месяца смены тарифного плана преимущественно снижалось в сравнении с периодом 3 месяца до месяца смены тарифного плана.\n",
    "<br>Рост наблюдался только для потоков 2->4, 5->4 и 5->3."
   ]
  }
 ],
 "metadata": {
  "kernelspec": {
   "display_name": "Python 3 (ipykernel)",
   "language": "python",
   "name": "python3"
  },
  "language_info": {
   "codemirror_mode": {
    "name": "ipython",
    "version": 3
   },
   "file_extension": ".py",
   "mimetype": "text/x-python",
   "name": "python",
   "nbconvert_exporter": "python",
   "pygments_lexer": "ipython3",
   "version": "3.9.12"
  }
 },
 "nbformat": 4,
 "nbformat_minor": 5
}
